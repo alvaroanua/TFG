{
 "cells": [
  {
   "cell_type": "markdown",
   "metadata": {},
   "source": [
    "### Libraries"
   ]
  },
  {
   "cell_type": "code",
   "execution_count": 12,
   "metadata": {},
   "outputs": [],
   "source": [
    "import pandas as pd\n",
    "import numpy as np\n",
    "import matplotlib.pyplot as plt\n",
    "from sklearn.cluster import DBSCAN\n",
    "from sklearn import preprocessing"
   ]
  },
  {
   "cell_type": "markdown",
   "metadata": {},
   "source": [
    "### Read CSV file and obtain the location (Bilbao Ingenieros, same as K-means)"
   ]
  },
  {
   "cell_type": "code",
   "execution_count": 13,
   "metadata": {},
   "outputs": [
    {
     "data": {
      "text/html": [
       "<div>\n",
       "<style scoped>\n",
       "    .dataframe tbody tr th:only-of-type {\n",
       "        vertical-align: middle;\n",
       "    }\n",
       "\n",
       "    .dataframe tbody tr th {\n",
       "        vertical-align: top;\n",
       "    }\n",
       "\n",
       "    .dataframe thead th {\n",
       "        text-align: right;\n",
       "    }\n",
       "</style>\n",
       "<table border=\"1\" class=\"dataframe\">\n",
       "  <thead>\n",
       "    <tr style=\"text-align: right;\">\n",
       "      <th></th>\n",
       "      <th>location</th>\n",
       "      <th>ap_name</th>\n",
       "    </tr>\n",
       "  </thead>\n",
       "  <tbody>\n",
       "    <tr>\n",
       "      <th>2</th>\n",
       "      <td>BIZ-Bilbao &gt; Ingenieros &gt; Planta 2</td>\n",
       "      <td>AP-ETSIIyT-1602E-U022766</td>\n",
       "    </tr>\n",
       "    <tr>\n",
       "      <th>7</th>\n",
       "      <td>BIZ-Bilbao &gt; Ingenieros &gt; Planta 3</td>\n",
       "      <td>AP-ETSIIyT-1702-U022650</td>\n",
       "    </tr>\n",
       "    <tr>\n",
       "      <th>16</th>\n",
       "      <td>BIZ-Bilbao &gt; Ingenieros &gt; Planta 3</td>\n",
       "      <td>AP-ETSIIyT-1702-U022388</td>\n",
       "    </tr>\n",
       "    <tr>\n",
       "      <th>53</th>\n",
       "      <td>BIZ-Bilbao &gt; Ingenieros &gt; Sotano 1</td>\n",
       "      <td>AP-ETSIIyT-3702-U022249</td>\n",
       "    </tr>\n",
       "    <tr>\n",
       "      <th>64</th>\n",
       "      <td>BIZ-Bilbao &gt; Ingenieros &gt; Sotano 1</td>\n",
       "      <td>AP-ETSIIyT-3702-U022249</td>\n",
       "    </tr>\n",
       "    <tr>\n",
       "      <th>...</th>\n",
       "      <td>...</td>\n",
       "      <td>...</td>\n",
       "    </tr>\n",
       "    <tr>\n",
       "      <th>69762</th>\n",
       "      <td>BIZ-Bilbao &gt; Ingenieros &gt; Sotano 1</td>\n",
       "      <td>AP-ETSIIyT-3702-U022652</td>\n",
       "    </tr>\n",
       "    <tr>\n",
       "      <th>69779</th>\n",
       "      <td>BIZ-Bilbao &gt; Ingenieros &gt; Planta 2</td>\n",
       "      <td>AP-ETSIIyT-1602E-U022766</td>\n",
       "    </tr>\n",
       "    <tr>\n",
       "      <th>69780</th>\n",
       "      <td>BIZ-Bilbao &gt; Ingenieros &gt; Planta 3</td>\n",
       "      <td>AP-ETSIIyT-1702-U022400</td>\n",
       "    </tr>\n",
       "    <tr>\n",
       "      <th>69790</th>\n",
       "      <td>BIZ-Bilbao &gt; Ingenieros &gt; Planta 2</td>\n",
       "      <td>AP-ETSIIyT-1602E-U022767</td>\n",
       "    </tr>\n",
       "    <tr>\n",
       "      <th>69792</th>\n",
       "      <td>BIZ-Bilbao &gt; Ingenieros &gt; Planta 2</td>\n",
       "      <td>AP-ETSIIyT-1602E-U022767</td>\n",
       "    </tr>\n",
       "  </tbody>\n",
       "</table>\n",
       "<p>7188 rows × 2 columns</p>\n",
       "</div>"
      ],
      "text/plain": [
       "                                 location                   ap_name\n",
       "2      BIZ-Bilbao > Ingenieros > Planta 2  AP-ETSIIyT-1602E-U022766\n",
       "7      BIZ-Bilbao > Ingenieros > Planta 3   AP-ETSIIyT-1702-U022650\n",
       "16     BIZ-Bilbao > Ingenieros > Planta 3   AP-ETSIIyT-1702-U022388\n",
       "53     BIZ-Bilbao > Ingenieros > Sotano 1   AP-ETSIIyT-3702-U022249\n",
       "64     BIZ-Bilbao > Ingenieros > Sotano 1   AP-ETSIIyT-3702-U022249\n",
       "...                                   ...                       ...\n",
       "69762  BIZ-Bilbao > Ingenieros > Sotano 1   AP-ETSIIyT-3702-U022652\n",
       "69779  BIZ-Bilbao > Ingenieros > Planta 2  AP-ETSIIyT-1602E-U022766\n",
       "69780  BIZ-Bilbao > Ingenieros > Planta 3   AP-ETSIIyT-1702-U022400\n",
       "69790  BIZ-Bilbao > Ingenieros > Planta 2  AP-ETSIIyT-1602E-U022767\n",
       "69792  BIZ-Bilbao > Ingenieros > Planta 2  AP-ETSIIyT-1602E-U022767\n",
       "\n",
       "[7188 rows x 2 columns]"
      ]
     },
     "execution_count": 13,
     "metadata": {},
     "output_type": "execute_result"
    }
   ],
   "source": [
    "# Read CSV file of Datos_EHU_clientes_tabladinamica_anonimo_DATOS\n",
    "df1_location = pd.read_csv(\"Datos_EHU_clientes_tabladinamica_anonimo_DATOS.csv\")\n",
    "\n",
    "# Make a copy\n",
    "df_location = df1_location.copy()\n",
    "\n",
    "# Extract from CSV file the 'location' = 'BIZ-Bilbao > Ingenieros > Planta 2' to obtain 'ap_name'\n",
    "# 1st drop unnnecesary data\n",
    "df_location.drop(labels=[\"id\",\"ip_address\",\"ip_type\",\"type\",\"vendor\",\"avg_session_throughput\",\"troughput\", \"interface\",\n",
    "\"ap_mac_address\",\"ap_ip_address\",\"ssid\",\"vlan\",\"protocol\",\"status\",\"on_network\",\"association_time\",\"session_length\",\n",
    "\"first_seen\",\"traffic\",\"encryption_cipher\",\"rssi\",\"snr\",\"802_11u_client\"], axis=1, inplace=True)\n",
    "\n",
    "# 2nd stay only with data that 'location' = 'BIZ-Bilbao > Ingenieros > Planta 2'\n",
    "df_location = df_location[(df_location[\"location\"] == 'BIZ-Bilbao > Ingenieros > Planta 1')|\n",
    "(df_location[\"location\"] == 'BIZ-Bilbao > Ingenieros > Planta 2')|\n",
    "(df_location[\"location\"] == 'BIZ-Bilbao > Ingenieros > Planta 3')|\n",
    "(df_location[\"location\"] == 'BIZ-Bilbao > Ingenieros > Planta 4')|\n",
    "(df_location[\"location\"] == 'BIZ-Bilbao > Ingenieros > Planta Baja')|\n",
    "(df_location[\"location\"] == 'BIZ-Bilbao > Ingenieros > Sotano 1')|\n",
    "(df_location[\"location\"] == 'BIZ-Bilbao > Ingenieros > Sotano 2')]\n",
    "\n",
    "# Show\n",
    "df_location"
   ]
  },
  {
   "cell_type": "markdown",
   "metadata": {},
   "source": [
    "### Obtain with the 'ap_name' the 'suma_troghput' & 'cuenta_de_ip_address' "
   ]
  },
  {
   "cell_type": "code",
   "execution_count": 14,
   "metadata": {},
   "outputs": [
    {
     "data": {
      "text/html": [
       "<div>\n",
       "<style scoped>\n",
       "    .dataframe tbody tr th:only-of-type {\n",
       "        vertical-align: middle;\n",
       "    }\n",
       "\n",
       "    .dataframe tbody tr th {\n",
       "        vertical-align: top;\n",
       "    }\n",
       "\n",
       "    .dataframe thead th {\n",
       "        text-align: right;\n",
       "    }\n",
       "</style>\n",
       "<table border=\"1\" class=\"dataframe\">\n",
       "  <thead>\n",
       "    <tr style=\"text-align: right;\">\n",
       "      <th></th>\n",
       "      <th>etiquetas_de_fila</th>\n",
       "      <th>suma_de_troughput</th>\n",
       "      <th>cuenta_de_ip_address</th>\n",
       "    </tr>\n",
       "  </thead>\n",
       "  <tbody>\n",
       "    <tr>\n",
       "      <th>629</th>\n",
       "      <td>AP-ETSII-1142-U014278</td>\n",
       "      <td>2124,8</td>\n",
       "      <td>44.0</td>\n",
       "    </tr>\n",
       "    <tr>\n",
       "      <th>630</th>\n",
       "      <td>AP-ETSIIyT-1602E-U022651</td>\n",
       "      <td>2500,3</td>\n",
       "      <td>18.0</td>\n",
       "    </tr>\n",
       "    <tr>\n",
       "      <th>631</th>\n",
       "      <td>AP-ETSIIyT-1602E-U022766</td>\n",
       "      <td>158330,4</td>\n",
       "      <td>957.0</td>\n",
       "    </tr>\n",
       "    <tr>\n",
       "      <th>632</th>\n",
       "      <td>AP-ETSIIyT-1602E-U022767</td>\n",
       "      <td>73398,5</td>\n",
       "      <td>854.0</td>\n",
       "    </tr>\n",
       "    <tr>\n",
       "      <th>633</th>\n",
       "      <td>AP-ETSIIyT-1702-U022339</td>\n",
       "      <td>8900,4</td>\n",
       "      <td>38.0</td>\n",
       "    </tr>\n",
       "    <tr>\n",
       "      <th>...</th>\n",
       "      <td>...</td>\n",
       "      <td>...</td>\n",
       "      <td>...</td>\n",
       "    </tr>\n",
       "    <tr>\n",
       "      <th>758</th>\n",
       "      <td>AP-ETSIIyT-3702-U022252</td>\n",
       "      <td>6543,8</td>\n",
       "      <td>9.0</td>\n",
       "    </tr>\n",
       "    <tr>\n",
       "      <th>759</th>\n",
       "      <td>AP-ETSIIyT-3702-U022253</td>\n",
       "      <td>1434,2</td>\n",
       "      <td>7.0</td>\n",
       "    </tr>\n",
       "    <tr>\n",
       "      <th>760</th>\n",
       "      <td>AP-ETSIIyT-3702-U022254</td>\n",
       "      <td>1938,1</td>\n",
       "      <td>3.0</td>\n",
       "    </tr>\n",
       "    <tr>\n",
       "      <th>761</th>\n",
       "      <td>AP-ETSIIyT-3702-U022648</td>\n",
       "      <td>13670,1</td>\n",
       "      <td>27.0</td>\n",
       "    </tr>\n",
       "    <tr>\n",
       "      <th>762</th>\n",
       "      <td>AP-ETSIIyT-3702-U022652</td>\n",
       "      <td>11621,4</td>\n",
       "      <td>3.0</td>\n",
       "    </tr>\n",
       "  </tbody>\n",
       "</table>\n",
       "<p>134 rows × 3 columns</p>\n",
       "</div>"
      ],
      "text/plain": [
       "            etiquetas_de_fila suma_de_troughput  cuenta_de_ip_address\n",
       "629     AP-ETSII-1142-U014278            2124,8                  44.0\n",
       "630  AP-ETSIIyT-1602E-U022651            2500,3                  18.0\n",
       "631  AP-ETSIIyT-1602E-U022766          158330,4                 957.0\n",
       "632  AP-ETSIIyT-1602E-U022767           73398,5                 854.0\n",
       "633   AP-ETSIIyT-1702-U022339            8900,4                  38.0\n",
       "..                        ...               ...                   ...\n",
       "758   AP-ETSIIyT-3702-U022252            6543,8                   9.0\n",
       "759   AP-ETSIIyT-3702-U022253            1434,2                   7.0\n",
       "760   AP-ETSIIyT-3702-U022254            1938,1                   3.0\n",
       "761   AP-ETSIIyT-3702-U022648           13670,1                  27.0\n",
       "762   AP-ETSIIyT-3702-U022652           11621,4                   3.0\n",
       "\n",
       "[134 rows x 3 columns]"
      ]
     },
     "execution_count": 14,
     "metadata": {},
     "output_type": "execute_result"
    }
   ],
   "source": [
    "# Read CSV file of Datos_EHU_clientes_tabladinamica_anonimo_Hoja10.csv\n",
    "df1_ap = pd.read_csv(\"Datos_EHU_clientes_tabladinamica_anonimo_Hoja10.csv\")\n",
    "\n",
    "# Make a copy\n",
    "df_ap = df1_ap.copy()\n",
    "\n",
    "# Extract from CSV file the 'etiquetas_de_fila' of the df_location['ap_name']\n",
    "# 1st save data of df_location['ap_name']\n",
    "ap_name = df_location['ap_name']\n",
    "\n",
    "# 2nd stay only the data of the 'ap_name'\n",
    "df_ap_filter = df_ap[df_ap[\"etiquetas_de_fila\"].isin(ap_name)]\n",
    "\n",
    "# Show\n",
    "df_ap_filter"
   ]
  },
  {
   "cell_type": "markdown",
   "metadata": {},
   "source": [
    "### Drop the unnecsary data"
   ]
  },
  {
   "cell_type": "code",
   "execution_count": 15,
   "metadata": {},
   "outputs": [
    {
     "name": "stdout",
     "output_type": "stream",
     "text": [
      "<class 'pandas.core.frame.DataFrame'>\n",
      "Int64Index: 134 entries, 629 to 762\n",
      "Data columns (total 2 columns):\n",
      " #   Column                Non-Null Count  Dtype  \n",
      "---  ------                --------------  -----  \n",
      " 0   suma_de_troughput     134 non-null    float64\n",
      " 1   cuenta_de_ip_address  134 non-null    float64\n",
      "dtypes: float64(2)\n",
      "memory usage: 3.1 KB\n"
     ]
    },
    {
     "name": "stderr",
     "output_type": "stream",
     "text": [
      "C:\\Users\\alvar\\AppData\\Local\\Temp\\ipykernel_15396\\32999323.py:1: SettingWithCopyWarning: \n",
      "A value is trying to be set on a copy of a slice from a DataFrame\n",
      "\n",
      "See the caveats in the documentation: https://pandas.pydata.org/pandas-docs/stable/user_guide/indexing.html#returning-a-view-versus-a-copy\n",
      "  df_ap_filter.drop([\"etiquetas_de_fila\"], axis=1, inplace=True)\n",
      "C:\\Users\\alvar\\AppData\\Local\\Temp\\ipykernel_15396\\32999323.py:5: SettingWithCopyWarning: \n",
      "A value is trying to be set on a copy of a slice from a DataFrame.\n",
      "Try using .loc[row_indexer,col_indexer] = value instead\n",
      "\n",
      "See the caveats in the documentation: https://pandas.pydata.org/pandas-docs/stable/user_guide/indexing.html#returning-a-view-versus-a-copy\n",
      "  df_ap_filter['suma_de_troughput'] = df_ap_filter['suma_de_troughput'].str.replace(',', '.')\n",
      "C:\\Users\\alvar\\AppData\\Local\\Temp\\ipykernel_15396\\32999323.py:6: SettingWithCopyWarning: \n",
      "A value is trying to be set on a copy of a slice from a DataFrame.\n",
      "Try using .loc[row_indexer,col_indexer] = value instead\n",
      "\n",
      "See the caveats in the documentation: https://pandas.pydata.org/pandas-docs/stable/user_guide/indexing.html#returning-a-view-versus-a-copy\n",
      "  df_ap_filter['suma_de_troughput'] = df_ap_filter['suma_de_troughput'].astype(float)\n"
     ]
    }
   ],
   "source": [
    "df_ap_filter.drop([\"etiquetas_de_fila\"], axis=1, inplace=True)\n",
    "\n",
    "# Convert String to float of df_ap_filter['suma_de_troughput'] column\n",
    "# Replace ',' of the String to be able to convert to Float\n",
    "df_ap_filter['suma_de_troughput'] = df_ap_filter['suma_de_troughput'].str.replace(',', '.')\n",
    "df_ap_filter['suma_de_troughput'] = df_ap_filter['suma_de_troughput'].astype(float)\n",
    "\n",
    "# Show info of dataframe\n",
    "df_ap_filter.info()"
   ]
  },
  {
   "cell_type": "markdown",
   "metadata": {},
   "source": [
    "### DBSCAN\n",
    "* For random eps value and min_samples value "
   ]
  },
  {
   "cell_type": "code",
   "execution_count": 16,
   "metadata": {},
   "outputs": [
    {
     "name": "stderr",
     "output_type": "stream",
     "text": [
      "C:\\Users\\alvar\\AppData\\Local\\Temp\\ipykernel_15396\\3918220880.py:12: SettingWithCopyWarning: \n",
      "A value is trying to be set on a copy of a slice from a DataFrame.\n",
      "Try using .loc[row_indexer,col_indexer] = value instead\n",
      "\n",
      "See the caveats in the documentation: https://pandas.pydata.org/pandas-docs/stable/user_guide/indexing.html#returning-a-view-versus-a-copy\n",
      "  df_ap_filter['Cluster'] = cluster\n"
     ]
    },
    {
     "data": {
      "image/png": "[encoded data removed]",
      "text/plain": [
       "<Figure size 1152x576 with 1 Axes>"
      ]
     },
     "metadata": {
      "needs_background": "light"
     },
     "output_type": "display_data"
    }
   ],
   "source": [
    "# Normalize\n",
    "min_max_scaler = preprocessing.MinMaxScaler()\n",
    "df_escalado = min_max_scaler.fit_transform(df_ap_filter)\n",
    "df_escalado = pd.DataFrame(df_escalado)\n",
    "df_escalado = df_escalado.rename(columns= {0 : 'bw_busy', 1: 'total_devices'})\n",
    "\n",
    "# DBSCAN\n",
    "dbscan = DBSCAN(eps= 0.08, min_samples= 4)\n",
    "cluster = dbscan.fit_predict(df_escalado)\n",
    "\n",
    "# Add to dataFrame\n",
    "df_ap_filter['Cluster'] = cluster\n",
    "\n",
    "# Asign x and y\n",
    "x = df_escalado['total_devices'].values\n",
    "y = df_escalado['bw_busy'].values \n",
    "\n",
    "# Plot the clusters\n",
    "plt.figure(figsize=(16,8))\n",
    "plt.title(\"INGENIEROS random eps=0.08\")\n",
    "plt.scatter(x, y, c = cluster, cmap= \"plasma\", s=10) # plotting the clusters \n",
    "plt.xlabel(\"Total devices\") # X-axis label\n",
    "plt.ylabel(\"bw busy\") # Y-axis label\n",
    "plt.show() # showing the plot"
   ]
  },
  {
   "cell_type": "markdown",
   "metadata": {},
   "source": [
    "### Determining the correct epsilon\n",
    "* The epsilon and min_samples are random values\n",
    "* To determine the correct epsilon --> elbow method\n",
    "* Determine a number of min_sample:\n",
    "    * If the dataset has two dimensions, use the min sample per cluster as 4. (Ester et al., 1996)\n",
    "    * If the data has more than two dimensions, the min sample per cluster should be: Min_sample(MinPoints) = 2 * Data dimension. (Sander et al., 1998)"
   ]
  },
  {
   "cell_type": "code",
   "execution_count": 17,
   "metadata": {},
   "outputs": [
    {
     "data": {
      "text/plain": [
       "[<matplotlib.lines.Line2D at 0x227b544ba30>]"
      ]
     },
     "execution_count": 17,
     "metadata": {},
     "output_type": "execute_result"
    },
    {
     "data": {
      "image/png": "[encoded data removed]",
      "text/plain": [
       "<Figure size 1152x576 with 1 Axes>"
      ]
     },
     "metadata": {
      "needs_background": "light"
     },
     "output_type": "display_data"
    }
   ],
   "source": [
    "from sklearn.neighbors import NearestNeighbors\n",
    "# min_samples\n",
    "n = 4\n",
    "# Calculate avg. distance between each point in the data set\n",
    "neighbours = NearestNeighbors(n_neighbors=n)\n",
    "neighbors_fit = neighbours.fit(df_escalado)\n",
    "distances, indices = neighbors_fit.kneighbors(df_escalado)\n",
    "\n",
    "distances = np.sort(distances[:,1], axis=0) #To obtain the distance of the sorted distances\n",
    "plt.figure(figsize=(16,8))\n",
    "plt.title(\"Elbow method for choosing eps\")\n",
    "plt.grid(color = 'black', linestyle = '--', linewidth = 0.5)\n",
    "plt.plot(distances)"
   ]
  },
  {
   "cell_type": "markdown",
   "metadata": {},
   "source": [
    "### Expand the image\n",
    "* The limit of x axis --> 110 and 140\n",
    "* The limit of y axis --> 0 and 10000"
   ]
  },
  {
   "cell_type": "code",
   "execution_count": 18,
   "metadata": {},
   "outputs": [
    {
     "data": {
      "text/plain": [
       "[<matplotlib.lines.Line2D at 0x227b54874c0>]"
      ]
     },
     "execution_count": 18,
     "metadata": {},
     "output_type": "execute_result"
    },
    {
     "data": {
      "image/png": "[encoded data removed]",
      "text/plain": [
       "<Figure size 1152x576 with 1 Axes>"
      ]
     },
     "metadata": {
      "needs_background": "light"
     },
     "output_type": "display_data"
    }
   ],
   "source": [
    "# Calculate avg. distance between each point in the data set\n",
    "neighbours = NearestNeighbors(n_neighbors=n)\n",
    "neighbors_fit = neighbours.fit(df_escalado)\n",
    "distances, indices = neighbors_fit.kneighbors(df_escalado)\n",
    "\n",
    "distances = np.sort(distances[:,1], axis=0) #To obtain the distance of the sorted distances\n",
    "plt.figure(figsize=(16,8))\n",
    "plt.title(\"Elbow method for choosing eps\")\n",
    "plt.ylim(0, 0.1)\n",
    "plt.xlim(100, 140)\n",
    "plt.grid(color = 'black', linestyle = '--', linewidth = 0.5)\n",
    "plt.plot(distances)"
   ]
  },
  {
   "cell_type": "markdown",
   "metadata": {},
   "source": [
    "### Determine the epsilon\n",
    "* eps = 0.025\n",
    "* eps = 0.06"
   ]
  },
  {
   "cell_type": "code",
   "execution_count": 19,
   "metadata": {},
   "outputs": [
    {
     "name": "stderr",
     "output_type": "stream",
     "text": [
      "C:\\Users\\alvar\\AppData\\Roaming\\Python\\Python310\\site-packages\\sklearn\\utils\\validation.py:1858: FutureWarning: Feature names only support names that are all strings. Got feature names with dtypes: ['int', 'str']. An error will be raised in 1.2.\n",
      "  warnings.warn(\n",
      "C:\\Users\\alvar\\AppData\\Local\\Temp\\ipykernel_15396\\4062141376.py:16: SettingWithCopyWarning: \n",
      "A value is trying to be set on a copy of a slice from a DataFrame.\n",
      "Try using .loc[row_indexer,col_indexer] = value instead\n",
      "\n",
      "See the caveats in the documentation: https://pandas.pydata.org/pandas-docs/stable/user_guide/indexing.html#returning-a-view-versus-a-copy\n",
      "  df_ap_filter['Cluster'] = cluster\n"
     ]
    },
    {
     "data": {
      "image/png": "[encoded data removed]",
      "text/plain": [
       "<Figure size 1152x576 with 1 Axes>"
      ]
     },
     "metadata": {
      "needs_background": "light"
     },
     "output_type": "display_data"
    }
   ],
   "source": [
    "# 1st try with eps = 0.025\n",
    "# Normalize\n",
    "min_max_scaler = preprocessing.MinMaxScaler()\n",
    "df_escalado = min_max_scaler.fit_transform(df_ap_filter)\n",
    "df_escalado = pd.DataFrame(df_escalado)\n",
    "df_escalado = df_escalado.rename(columns= {0 : 'bw_busy', 1: 'total_devices'})\n",
    "\n",
    "# Epsilon \n",
    "e = 0.025\n",
    "\n",
    "# DBSCAN\n",
    "dbscan = DBSCAN(eps= e, min_samples= n)\n",
    "cluster = dbscan.fit_predict(df_escalado)\n",
    "\n",
    "# Add to dataFrame\n",
    "df_ap_filter['Cluster'] = cluster\n",
    "\n",
    "# Asign x and y\n",
    "x = df_escalado['total_devices'].values # total_devices\n",
    "y = df_escalado['bw_busy'].values # bw_busy\n",
    "\n",
    "# Plot the clusters\n",
    "plt.figure(figsize=(16,8))\n",
    "plt.title(\"INGENIEROS eps=\" +str(e))\n",
    "plt.scatter(x, y, c = cluster, cmap= \"plasma\", s=10) # plotting the clusters\n",
    "plt.xlabel(\"Total devices\") # X-axis label\n",
    "plt.ylabel(\"bw busy\") # Y-axis label\n",
    "plt.show() # showing the plot\n"
   ]
  },
  {
   "cell_type": "markdown",
   "metadata": {},
   "source": [
    "### Count of cluster"
   ]
  },
  {
   "cell_type": "code",
   "execution_count": 20,
   "metadata": {},
   "outputs": [
    {
     "data": {
      "text/html": [
       "<div>\n",
       "<style scoped>\n",
       "    .dataframe tbody tr th:only-of-type {\n",
       "        vertical-align: middle;\n",
       "    }\n",
       "\n",
       "    .dataframe tbody tr th {\n",
       "        vertical-align: top;\n",
       "    }\n",
       "\n",
       "    .dataframe thead th {\n",
       "        text-align: right;\n",
       "    }\n",
       "</style>\n",
       "<table border=\"1\" class=\"dataframe\">\n",
       "  <thead>\n",
       "    <tr style=\"text-align: right;\">\n",
       "      <th></th>\n",
       "      <th>cantidad</th>\n",
       "    </tr>\n",
       "    <tr>\n",
       "      <th>label</th>\n",
       "      <th></th>\n",
       "    </tr>\n",
       "  </thead>\n",
       "  <tbody>\n",
       "    <tr>\n",
       "      <th>-1</th>\n",
       "      <td>16</td>\n",
       "    </tr>\n",
       "    <tr>\n",
       "      <th>0</th>\n",
       "      <td>118</td>\n",
       "    </tr>\n",
       "  </tbody>\n",
       "</table>\n",
       "</div>"
      ],
      "text/plain": [
       "       cantidad\n",
       "label          \n",
       "-1           16\n",
       " 0          118"
      ]
     },
     "execution_count": 20,
     "metadata": {},
     "output_type": "execute_result"
    }
   ],
   "source": [
    "copy = pd.DataFrame()\n",
    "copy['bw_busy']=df_ap_filter['suma_de_troughput'].values\n",
    "copy['total_devices']=df_ap_filter['cuenta_de_ip_address'].values\n",
    "copy['label'] = cluster\n",
    "cantidadGrupo =  pd.DataFrame()\n",
    "cantidadGrupo['cantidad']=copy.groupby('label').size()\n",
    "cantidadGrupo"
   ]
  },
  {
   "cell_type": "code",
   "execution_count": 21,
   "metadata": {},
   "outputs": [
    {
     "name": "stderr",
     "output_type": "stream",
     "text": [
      "C:\\Users\\alvar\\AppData\\Roaming\\Python\\Python310\\site-packages\\sklearn\\utils\\validation.py:1858: FutureWarning: Feature names only support names that are all strings. Got feature names with dtypes: ['int', 'str']. An error will be raised in 1.2.\n",
      "  warnings.warn(\n",
      "C:\\Users\\alvar\\AppData\\Local\\Temp\\ipykernel_15396\\2220278007.py:10: SettingWithCopyWarning: \n",
      "A value is trying to be set on a copy of a slice from a DataFrame.\n",
      "Try using .loc[row_indexer,col_indexer] = value instead\n",
      "\n",
      "See the caveats in the documentation: https://pandas.pydata.org/pandas-docs/stable/user_guide/indexing.html#returning-a-view-versus-a-copy\n",
      "  df_ap_filter['Cluster'] = cluster\n"
     ]
    },
    {
     "data": {
      "image/png": "[encoded data removed]",
      "text/plain": [
       "<Figure size 1152x576 with 1 Axes>"
      ]
     },
     "metadata": {
      "needs_background": "light"
     },
     "output_type": "display_data"
    }
   ],
   "source": [
    "# 2nd try with eps = 0.06\n",
    "# Epsilon \n",
    "e = 0.06\n",
    "\n",
    "# DBSCAN\n",
    "dbscan = DBSCAN(eps= e, min_samples= n)\n",
    "cluster = dbscan.fit_predict(df_escalado)\n",
    "\n",
    "# Add to dataFrame\n",
    "df_ap_filter['Cluster'] = cluster\n",
    "\n",
    "# Asign x and y\n",
    "x = df_escalado['total_devices'].values # total_devices\n",
    "y = df_escalado['bw_busy'].values # bw_busy\n",
    "\n",
    "# Plot the clusters\n",
    "plt.figure(figsize=(16,8))\n",
    "plt.title(\"INGENIEROS eps=\" +str(e))\n",
    "plt.scatter(x, y, c = cluster, cmap= \"plasma\", s=10) # plotting the clusters\n",
    "plt.xlabel(\"Total devices\") # X-axis label\n",
    "plt.ylabel(\"bw busy\") # Y-axis label\n",
    "plt.show() # showing the plot"
   ]
  },
  {
   "cell_type": "markdown",
   "metadata": {},
   "source": [
    "### Count of cluster"
   ]
  },
  {
   "cell_type": "code",
   "execution_count": 22,
   "metadata": {},
   "outputs": [
    {
     "data": {
      "text/html": [
       "<div>\n",
       "<style scoped>\n",
       "    .dataframe tbody tr th:only-of-type {\n",
       "        vertical-align: middle;\n",
       "    }\n",
       "\n",
       "    .dataframe tbody tr th {\n",
       "        vertical-align: top;\n",
       "    }\n",
       "\n",
       "    .dataframe thead th {\n",
       "        text-align: right;\n",
       "    }\n",
       "</style>\n",
       "<table border=\"1\" class=\"dataframe\">\n",
       "  <thead>\n",
       "    <tr style=\"text-align: right;\">\n",
       "      <th></th>\n",
       "      <th>cantidad</th>\n",
       "    </tr>\n",
       "    <tr>\n",
       "      <th>label</th>\n",
       "      <th></th>\n",
       "    </tr>\n",
       "  </thead>\n",
       "  <tbody>\n",
       "    <tr>\n",
       "      <th>-1</th>\n",
       "      <td>6</td>\n",
       "    </tr>\n",
       "    <tr>\n",
       "      <th>0</th>\n",
       "      <td>125</td>\n",
       "    </tr>\n",
       "    <tr>\n",
       "      <th>1</th>\n",
       "      <td>3</td>\n",
       "    </tr>\n",
       "  </tbody>\n",
       "</table>\n",
       "</div>"
      ],
      "text/plain": [
       "       cantidad\n",
       "label          \n",
       "-1            6\n",
       " 0          125\n",
       " 1            3"
      ]
     },
     "execution_count": 22,
     "metadata": {},
     "output_type": "execute_result"
    }
   ],
   "source": [
    "copy = pd.DataFrame()\n",
    "copy['bw_busy']=df_ap_filter['suma_de_troughput'].values\n",
    "copy['total_devices']=df_ap_filter['cuenta_de_ip_address'].values\n",
    "copy['label'] = cluster\n",
    "cantidadGrupo =  pd.DataFrame()\n",
    "cantidadGrupo['cantidad']=copy.groupby('label').size()\n",
    "cantidadGrupo"
   ]
  }
 ],
 "metadata": {
  "kernelspec": {
   "display_name": "Python 3.10.4 64-bit",
   "language": "python",
   "name": "python3"
  },
  "language_info": {
   "codemirror_mode": {
    "name": "ipython",
    "version": 3
   },
   "file_extension": ".py",
   "mimetype": "text/x-python",
   "name": "python",
   "nbconvert_exporter": "python",
   "pygments_lexer": "ipython3",
   "version": "3.10.4"
  },
  "orig_nbformat": 4,
  "vscode": {
   "interpreter": {
    "hash": "26de051ba29f2982a8de78e945f0abaf191376122a1563185a90213a26c5da77"
   }
  }
 },
 "nbformat": 4,
 "nbformat_minor": 2
}
