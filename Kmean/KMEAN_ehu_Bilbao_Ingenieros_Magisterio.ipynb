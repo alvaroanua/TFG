{
 "cells": [
  {
   "cell_type": "markdown",
   "metadata": {},
   "source": [
    "### Libraries"
   ]
  },
  {
   "cell_type": "code",
   "execution_count": 1,
   "metadata": {},
   "outputs": [],
   "source": [
    "import pandas as pd\n",
    "import matplotlib.pyplot as plt\n",
    "from sklearn.cluster import KMeans"
   ]
  },
  {
   "cell_type": "markdown",
   "metadata": {},
   "source": [
    "### Obtain the Location\n",
    "* For example the engineering building of Bilbao: BIZ-Bilbao > Ingenieros > Planta 1 & BIZ-Bilbao > Ingenieros > Planta 2 & BIZ-Bilbao > Ingenieros > Planta 3\n",
    "BIZ-Bilbao > Ingenieros > Planta 4 & BIZ-Bilbao > Ingenieros > Planta Baja & BIZ-Bilbao > Ingenieros > Sotano 1 & BIZ-Bilbao > Ingenieros > Planta Sotano 2"
   ]
  },
  {
   "cell_type": "code",
   "execution_count": 2,
   "metadata": {},
   "outputs": [
    {
     "data": {
      "text/html": [
       "<div>\n",
       "<style scoped>\n",
       "    .dataframe tbody tr th:only-of-type {\n",
       "        vertical-align: middle;\n",
       "    }\n",
       "\n",
       "    .dataframe tbody tr th {\n",
       "        vertical-align: top;\n",
       "    }\n",
       "\n",
       "    .dataframe thead th {\n",
       "        text-align: right;\n",
       "    }\n",
       "</style>\n",
       "<table border=\"1\" class=\"dataframe\">\n",
       "  <thead>\n",
       "    <tr style=\"text-align: right;\">\n",
       "      <th></th>\n",
       "      <th>location</th>\n",
       "      <th>ap_name</th>\n",
       "    </tr>\n",
       "  </thead>\n",
       "  <tbody>\n",
       "    <tr>\n",
       "      <th>2</th>\n",
       "      <td>BIZ-Bilbao &gt; Ingenieros &gt; Planta 2</td>\n",
       "      <td>AP-ETSIIyT-1602E-U022766</td>\n",
       "    </tr>\n",
       "    <tr>\n",
       "      <th>7</th>\n",
       "      <td>BIZ-Bilbao &gt; Ingenieros &gt; Planta 3</td>\n",
       "      <td>AP-ETSIIyT-1702-U022650</td>\n",
       "    </tr>\n",
       "    <tr>\n",
       "      <th>9</th>\n",
       "      <td>BIZ-Leioa &gt; Magisterio &gt; P3</td>\n",
       "      <td>AP-EGB-Leioa-1142-U016992</td>\n",
       "    </tr>\n",
       "    <tr>\n",
       "      <th>16</th>\n",
       "      <td>BIZ-Bilbao &gt; Ingenieros &gt; Planta 3</td>\n",
       "      <td>AP-ETSIIyT-1702-U022388</td>\n",
       "    </tr>\n",
       "    <tr>\n",
       "      <th>22</th>\n",
       "      <td>BIZ-Leioa &gt; Magisterio &gt; P0</td>\n",
       "      <td>AP-EGB-Leioa-1142-U010867</td>\n",
       "    </tr>\n",
       "    <tr>\n",
       "      <th>...</th>\n",
       "      <td>...</td>\n",
       "      <td>...</td>\n",
       "    </tr>\n",
       "    <tr>\n",
       "      <th>69783</th>\n",
       "      <td>BIZ-Leioa &gt; Magisterio &gt; P1</td>\n",
       "      <td>AP-EGB-Leioa-2802-U034564</td>\n",
       "    </tr>\n",
       "    <tr>\n",
       "      <th>69787</th>\n",
       "      <td>BIZ-Leioa &gt; Magisterio &gt; P1</td>\n",
       "      <td>AP-EGB-Leioa-2802-U032095</td>\n",
       "    </tr>\n",
       "    <tr>\n",
       "      <th>69788</th>\n",
       "      <td>BIZ-Leioa &gt; Magisterio &gt; P2</td>\n",
       "      <td>AP-EGB-Leioa-2802-U037630</td>\n",
       "    </tr>\n",
       "    <tr>\n",
       "      <th>69790</th>\n",
       "      <td>BIZ-Bilbao &gt; Ingenieros &gt; Planta 2</td>\n",
       "      <td>AP-ETSIIyT-1602E-U022767</td>\n",
       "    </tr>\n",
       "    <tr>\n",
       "      <th>69792</th>\n",
       "      <td>BIZ-Bilbao &gt; Ingenieros &gt; Planta 2</td>\n",
       "      <td>AP-ETSIIyT-1602E-U022767</td>\n",
       "    </tr>\n",
       "  </tbody>\n",
       "</table>\n",
       "<p>9553 rows × 2 columns</p>\n",
       "</div>"
      ],
      "text/plain": [
       "                                 location                    ap_name\n",
       "2      BIZ-Bilbao > Ingenieros > Planta 2   AP-ETSIIyT-1602E-U022766\n",
       "7      BIZ-Bilbao > Ingenieros > Planta 3    AP-ETSIIyT-1702-U022650\n",
       "9             BIZ-Leioa > Magisterio > P3  AP-EGB-Leioa-1142-U016992\n",
       "16     BIZ-Bilbao > Ingenieros > Planta 3    AP-ETSIIyT-1702-U022388\n",
       "22            BIZ-Leioa > Magisterio > P0  AP-EGB-Leioa-1142-U010867\n",
       "...                                   ...                        ...\n",
       "69783         BIZ-Leioa > Magisterio > P1  AP-EGB-Leioa-2802-U034564\n",
       "69787         BIZ-Leioa > Magisterio > P1  AP-EGB-Leioa-2802-U032095\n",
       "69788         BIZ-Leioa > Magisterio > P2  AP-EGB-Leioa-2802-U037630\n",
       "69790  BIZ-Bilbao > Ingenieros > Planta 2   AP-ETSIIyT-1602E-U022767\n",
       "69792  BIZ-Bilbao > Ingenieros > Planta 2   AP-ETSIIyT-1602E-U022767\n",
       "\n",
       "[9553 rows x 2 columns]"
      ]
     },
     "execution_count": 2,
     "metadata": {},
     "output_type": "execute_result"
    }
   ],
   "source": [
    "# Read CSV file of Datos_EHU_clientes_tabladinamica_anonimo_DATOS\n",
    "df1_location = pd.read_csv(\"Datos_EHU_clientes_tabladinamica_anonimo_DATOS.csv\")\n",
    "\n",
    "# Make a copy\n",
    "df_location = df1_location.copy()\n",
    "\n",
    "# Extract from CSV file the 'location' = 'BIZ-Bilbao > Ingenieros > Planta 2' to obtain 'ap_name'\n",
    "# 1st drop unnnecesary data\n",
    "df_location.drop(labels=[\"id\",\"ip_address\",\"ip_type\",\"type\",\"vendor\",\"avg_session_throughput\",\"troughput\", \"interface\",\n",
    "\"ap_mac_address\",\"ap_ip_address\",\"ssid\",\"vlan\",\"protocol\",\"status\",\"on_network\",\"association_time\",\"session_length\",\n",
    "\"first_seen\",\"traffic\",\"encryption_cipher\",\"rssi\",\"snr\",\"802_11u_client\"], axis=1, inplace=True)\n",
    "\n",
    "# 2nd stay only with data that 'location' = 'BIZ-Bilbao > Ingenieros > Planta 2'\n",
    "df_location = df_location[(df_location[\"location\"] == 'BIZ-Bilbao > Ingenieros > Planta 1')|\n",
    "(df_location[\"location\"] == 'BIZ-Bilbao > Ingenieros > Planta 2')|\n",
    "(df_location[\"location\"] == 'BIZ-Bilbao > Ingenieros > Planta 3')|\n",
    "(df_location[\"location\"] == 'BIZ-Bilbao > Ingenieros > Planta 4')|\n",
    "(df_location[\"location\"] == 'BIZ-Bilbao > Ingenieros > Planta Baja')|\n",
    "(df_location[\"location\"] == 'BIZ-Bilbao > Ingenieros > Sotano 1')|\n",
    "(df_location[\"location\"] == 'BIZ-Bilbao > Ingenieros > Sotano 2')|\n",
    "(df_location[\"location\"] == 'BIZ-Leioa > Magisterio > P0') |\n",
    "(df_location[\"location\"] == 'BIZ-Leioa > Magisterio > P1') |\n",
    "(df_location[\"location\"] == 'BIZ-Leioa > Magisterio > P2') |\n",
    "(df_location[\"location\"] == 'BIZ-Leioa > Magisterio > P3')]\n",
    "\n",
    "# Show dataframe\n",
    "df_location"
   ]
  },
  {
   "cell_type": "markdown",
   "metadata": {},
   "source": [
    "### Obtain with the 'ap_name' the 'suma_troghput' & 'cuenta_de_ip_address' "
   ]
  },
  {
   "cell_type": "code",
   "execution_count": 3,
   "metadata": {},
   "outputs": [
    {
     "data": {
      "text/html": [
       "<div>\n",
       "<style scoped>\n",
       "    .dataframe tbody tr th:only-of-type {\n",
       "        vertical-align: middle;\n",
       "    }\n",
       "\n",
       "    .dataframe tbody tr th {\n",
       "        vertical-align: top;\n",
       "    }\n",
       "\n",
       "    .dataframe thead th {\n",
       "        text-align: right;\n",
       "    }\n",
       "</style>\n",
       "<table border=\"1\" class=\"dataframe\">\n",
       "  <thead>\n",
       "    <tr style=\"text-align: right;\">\n",
       "      <th></th>\n",
       "      <th>etiquetas_de_fila</th>\n",
       "      <th>suma_de_troughput</th>\n",
       "      <th>cuenta_de_ip_address</th>\n",
       "    </tr>\n",
       "  </thead>\n",
       "  <tbody>\n",
       "    <tr>\n",
       "      <th>485</th>\n",
       "      <td>AP-EGB-3702-U034482</td>\n",
       "      <td>109,8</td>\n",
       "      <td>4.0</td>\n",
       "    </tr>\n",
       "    <tr>\n",
       "      <th>521</th>\n",
       "      <td>AP-EGB-Leioa-1142-U010865</td>\n",
       "      <td>9353,2</td>\n",
       "      <td>33.0</td>\n",
       "    </tr>\n",
       "    <tr>\n",
       "      <th>522</th>\n",
       "      <td>AP-EGB-Leioa-1142-U010866</td>\n",
       "      <td>6481,6</td>\n",
       "      <td>39.0</td>\n",
       "    </tr>\n",
       "    <tr>\n",
       "      <th>523</th>\n",
       "      <td>AP-EGB-Leioa-1142-U010867</td>\n",
       "      <td>60486,5</td>\n",
       "      <td>94.0</td>\n",
       "    </tr>\n",
       "    <tr>\n",
       "      <th>524</th>\n",
       "      <td>AP-EGB-Leioa-1142-U010868</td>\n",
       "      <td>2623,5</td>\n",
       "      <td>14.0</td>\n",
       "    </tr>\n",
       "    <tr>\n",
       "      <th>...</th>\n",
       "      <td>...</td>\n",
       "      <td>...</td>\n",
       "      <td>...</td>\n",
       "    </tr>\n",
       "    <tr>\n",
       "      <th>758</th>\n",
       "      <td>AP-ETSIIyT-3702-U022252</td>\n",
       "      <td>6543,8</td>\n",
       "      <td>9.0</td>\n",
       "    </tr>\n",
       "    <tr>\n",
       "      <th>759</th>\n",
       "      <td>AP-ETSIIyT-3702-U022253</td>\n",
       "      <td>1434,2</td>\n",
       "      <td>7.0</td>\n",
       "    </tr>\n",
       "    <tr>\n",
       "      <th>760</th>\n",
       "      <td>AP-ETSIIyT-3702-U022254</td>\n",
       "      <td>1938,1</td>\n",
       "      <td>3.0</td>\n",
       "    </tr>\n",
       "    <tr>\n",
       "      <th>761</th>\n",
       "      <td>AP-ETSIIyT-3702-U022648</td>\n",
       "      <td>13670,1</td>\n",
       "      <td>27.0</td>\n",
       "    </tr>\n",
       "    <tr>\n",
       "      <th>762</th>\n",
       "      <td>AP-ETSIIyT-3702-U022652</td>\n",
       "      <td>11621,4</td>\n",
       "      <td>3.0</td>\n",
       "    </tr>\n",
       "  </tbody>\n",
       "</table>\n",
       "<p>191 rows × 3 columns</p>\n",
       "</div>"
      ],
      "text/plain": [
       "             etiquetas_de_fila suma_de_troughput  cuenta_de_ip_address\n",
       "485        AP-EGB-3702-U034482             109,8                   4.0\n",
       "521  AP-EGB-Leioa-1142-U010865            9353,2                  33.0\n",
       "522  AP-EGB-Leioa-1142-U010866            6481,6                  39.0\n",
       "523  AP-EGB-Leioa-1142-U010867           60486,5                  94.0\n",
       "524  AP-EGB-Leioa-1142-U010868            2623,5                  14.0\n",
       "..                         ...               ...                   ...\n",
       "758    AP-ETSIIyT-3702-U022252            6543,8                   9.0\n",
       "759    AP-ETSIIyT-3702-U022253            1434,2                   7.0\n",
       "760    AP-ETSIIyT-3702-U022254            1938,1                   3.0\n",
       "761    AP-ETSIIyT-3702-U022648           13670,1                  27.0\n",
       "762    AP-ETSIIyT-3702-U022652           11621,4                   3.0\n",
       "\n",
       "[191 rows x 3 columns]"
      ]
     },
     "execution_count": 3,
     "metadata": {},
     "output_type": "execute_result"
    }
   ],
   "source": [
    "# Read CSV file of Datos_EHU_clientes_tabladinamica_anonimo_Hoja10.csv\n",
    "df1_ap = pd.read_csv(\"Datos_EHU_clientes_tabladinamica_anonimo_Hoja10.csv\")\n",
    "\n",
    "# Make a copy\n",
    "df_ap = df1_ap.copy()\n",
    "\n",
    "# Extract from CSV file the 'etiquetas_de_fila' of the df_location['ap_name']\n",
    "# 1st save data of df_location['ap_name']\n",
    "ap_name = df_location['ap_name']\n",
    "\n",
    "# 2nd stay only the data of the 'ap_name'\n",
    "df_ap_filter = df_ap[df_ap[\"etiquetas_de_fila\"].isin(ap_name)]\n",
    "\n",
    "# Show dataframe filter\n",
    "df_ap_filter\n"
   ]
  },
  {
   "cell_type": "markdown",
   "metadata": {},
   "source": [
    "### Drop the unnecsary data"
   ]
  },
  {
   "cell_type": "code",
   "execution_count": 4,
   "metadata": {},
   "outputs": [
    {
     "name": "stdout",
     "output_type": "stream",
     "text": [
      "<class 'pandas.core.frame.DataFrame'>\n",
      "Int64Index: 191 entries, 485 to 762\n",
      "Data columns (total 2 columns):\n",
      " #   Column                Non-Null Count  Dtype  \n",
      "---  ------                --------------  -----  \n",
      " 0   suma_de_troughput     191 non-null    float64\n",
      " 1   cuenta_de_ip_address  191 non-null    float64\n",
      "dtypes: float64(2)\n",
      "memory usage: 4.5 KB\n"
     ]
    },
    {
     "name": "stderr",
     "output_type": "stream",
     "text": [
      "C:\\Users\\alvar\\AppData\\Local\\Temp\\ipykernel_21796\\32999323.py:1: SettingWithCopyWarning: \n",
      "A value is trying to be set on a copy of a slice from a DataFrame\n",
      "\n",
      "See the caveats in the documentation: https://pandas.pydata.org/pandas-docs/stable/user_guide/indexing.html#returning-a-view-versus-a-copy\n",
      "  df_ap_filter.drop([\"etiquetas_de_fila\"], axis=1, inplace=True)\n",
      "C:\\Users\\alvar\\AppData\\Local\\Temp\\ipykernel_21796\\32999323.py:5: SettingWithCopyWarning: \n",
      "A value is trying to be set on a copy of a slice from a DataFrame.\n",
      "Try using .loc[row_indexer,col_indexer] = value instead\n",
      "\n",
      "See the caveats in the documentation: https://pandas.pydata.org/pandas-docs/stable/user_guide/indexing.html#returning-a-view-versus-a-copy\n",
      "  df_ap_filter['suma_de_troughput'] = df_ap_filter['suma_de_troughput'].str.replace(',', '.')\n",
      "C:\\Users\\alvar\\AppData\\Local\\Temp\\ipykernel_21796\\32999323.py:6: SettingWithCopyWarning: \n",
      "A value is trying to be set on a copy of a slice from a DataFrame.\n",
      "Try using .loc[row_indexer,col_indexer] = value instead\n",
      "\n",
      "See the caveats in the documentation: https://pandas.pydata.org/pandas-docs/stable/user_guide/indexing.html#returning-a-view-versus-a-copy\n",
      "  df_ap_filter['suma_de_troughput'] = df_ap_filter['suma_de_troughput'].astype(float)\n"
     ]
    }
   ],
   "source": [
    "df_ap_filter.drop([\"etiquetas_de_fila\"], axis=1, inplace=True)\n",
    "\n",
    "# Convert String to float of df_ap_filter['suma_de_troughput'] column\n",
    "# Replace ',' of the String to be able to convert to Float\n",
    "df_ap_filter['suma_de_troughput'] = df_ap_filter['suma_de_troughput'].str.replace(',', '.')\n",
    "df_ap_filter['suma_de_troughput'] = df_ap_filter['suma_de_troughput'].astype(float)\n",
    "\n",
    "# Show info of dataframe\n",
    "df_ap_filter.info()"
   ]
  },
  {
   "cell_type": "markdown",
   "metadata": {},
   "source": [
    "### Elbow method"
   ]
  },
  {
   "cell_type": "code",
   "execution_count": 5,
   "metadata": {},
   "outputs": [
    {
     "data": {
      "image/png": "[encoded data removed]",
      "text/plain": [
       "<Figure size 1152x576 with 1 Axes>"
      ]
     },
     "metadata": {
      "needs_background": "light"
     },
     "output_type": "display_data"
    }
   ],
   "source": [
    "# Normalize data\n",
    "from sklearn import preprocessing \n",
    "min_max_scaler = preprocessing.MinMaxScaler()\n",
    "normalize = min_max_scaler.fit_transform(df_ap_filter)\n",
    "df_normalize = pd.DataFrame(normalize)\n",
    "\n",
    "# Rename column of data frame normalize\n",
    "df_normalize = df_normalize.rename(columns={0: 'total_devices', 1: 'bw_busy'}) #I change the name of the columns to be the same as in the data of Dublin\n",
    "\n",
    "# Elbow method\n",
    "inertia = [] \n",
    "rango = range(1,11)\n",
    "for i in rango:\n",
    "    algoritmo = KMeans(n_clusters=i) #default: init = k-means++, n_init = 10, max_iter = 300\n",
    "    algoritmo.fit(df_normalize)\n",
    "    inertia.append(algoritmo.inertia_) #Calculate: The total sum of the square inside each cluster\n",
    "\n",
    "# Size figure\n",
    "plt.figure(figsize=(16,8))\n",
    "\n",
    "# Plot\n",
    "plt.plot(rango, inertia, 'bx-')\n",
    "plt.xlabel('Numero clusters(k)')\n",
    "plt.ylabel('Inertia')\n",
    "plt.title('INGENIEROS & MAGISTERIO: Método Codo de Jambú mostrando la k óptima')\n",
    "\n",
    "# Print plt\n",
    "plt.show()"
   ]
  },
  {
   "cell_type": "markdown",
   "metadata": {},
   "source": [
    "### k-means from sklearn\n",
    "* With the Elbow method we obtain the optimal k is 3"
   ]
  },
  {
   "cell_type": "code",
   "execution_count": 6,
   "metadata": {},
   "outputs": [
    {
     "data": {
      "text/plain": [
       "<matplotlib.collections.PathCollection at 0x15c8bd99ed0>"
      ]
     },
     "execution_count": 6,
     "metadata": {},
     "output_type": "execute_result"
    },
    {
     "data": {
      "image/png": "[encoded data removed]",
      "text/plain": [
       "<Figure size 1152x576 with 1 Axes>"
      ]
     },
     "metadata": {
      "needs_background": "light"
     },
     "output_type": "display_data"
    }
   ],
   "source": [
    "# Show K-means for k=2\n",
    "# Number of clusters\n",
    "k = 2\n",
    "\n",
    "# Kmeans\n",
    "kmeans = KMeans(n_clusters= k) #default: init = k-means++, n_init = 10, max_iter = 300\n",
    "\n",
    "# Labels of data\n",
    "cluster_kdos = kmeans.fit_predict(df_normalize)\n",
    "df_normalize['cluster'] = cluster_kdos\n",
    "\n",
    "# Obtain centroids coordinates\n",
    "centroids = kmeans.cluster_centers_\n",
    "\n",
    "# Asign x and y\n",
    "x = df_normalize['total_devices'].values\n",
    "y = df_normalize['bw_busy'].values\n",
    "\n",
    "# Print result\n",
    "plt.figure(figsize=(16,8))\n",
    "plt.title(\"INGENIEROS & MAGISTERIO k=2 data\")\n",
    "plt.xlabel('Dispositivos totales')\n",
    "plt.ylabel('Ancho de banda oucpada')\n",
    "plt.scatter(x,y, marker='.', s=60)"
   ]
  },
  {
   "cell_type": "markdown",
   "metadata": {},
   "source": [
    "### Graphic representation of k-means clusters"
   ]
  },
  {
   "cell_type": "code",
   "execution_count": 7,
   "metadata": {},
   "outputs": [
    {
     "data": {
      "image/png": "[encoded data removed]",
      "text/plain": [
       "<Figure size 1152x576 with 1 Axes>"
      ]
     },
     "metadata": {
      "needs_background": "light"
     },
     "output_type": "display_data"
    }
   ],
   "source": [
    "# Asign colors to clusters\n",
    "colors = ['red', 'green', 'blue', 'yellow'] #Number of colors = k\n",
    "asign = []\n",
    "for row in cluster_kdos:\n",
    "    asign.append(colors[row])\n",
    "\n",
    "# Plot size\n",
    "plt.figure(figsize=(16,8))\n",
    "\n",
    "# Plot scatter\n",
    "plt.scatter(x, y, marker='.', c = asign, s=40)\n",
    "plt.scatter(centroids[:, 0], centroids[:, 1], marker='*', c='black', s=60)\n",
    "\n",
    "# Titles of x, y and plot\n",
    "plt.xlabel('Dispositivos totales')\n",
    "plt.ylabel('Ancho de banda oucpada')\n",
    "plt.title('INGENIEROS & MAGISTERIO: Algoritmo k-means para '+str(k)+' clusters')\n",
    "\n",
    "# Show plot\n",
    "plt.show()"
   ]
  },
  {
   "cell_type": "code",
   "execution_count": 8,
   "metadata": {},
   "outputs": [
    {
     "data": {
      "text/html": [
       "<div>\n",
       "<style scoped>\n",
       "    .dataframe tbody tr th:only-of-type {\n",
       "        vertical-align: middle;\n",
       "    }\n",
       "\n",
       "    .dataframe tbody tr th {\n",
       "        vertical-align: top;\n",
       "    }\n",
       "\n",
       "    .dataframe thead th {\n",
       "        text-align: right;\n",
       "    }\n",
       "</style>\n",
       "<table border=\"1\" class=\"dataframe\">\n",
       "  <thead>\n",
       "    <tr style=\"text-align: right;\">\n",
       "      <th></th>\n",
       "      <th>cantidad</th>\n",
       "    </tr>\n",
       "    <tr>\n",
       "      <th>cluster</th>\n",
       "      <th></th>\n",
       "    </tr>\n",
       "  </thead>\n",
       "  <tbody>\n",
       "    <tr>\n",
       "      <th>0</th>\n",
       "      <td>189</td>\n",
       "    </tr>\n",
       "    <tr>\n",
       "      <th>1</th>\n",
       "      <td>2</td>\n",
       "    </tr>\n",
       "  </tbody>\n",
       "</table>\n",
       "</div>"
      ],
      "text/plain": [
       "         cantidad\n",
       "cluster          \n",
       "0             189\n",
       "1               2"
      ]
     },
     "execution_count": 8,
     "metadata": {},
     "output_type": "execute_result"
    }
   ],
   "source": [
    "# Show info of cluster\n",
    "copy_kdos = pd.DataFrame()\n",
    "copy_kdos['bw_busy']=df_normalize['bw_busy'].values\n",
    "copy_kdos['total_devices']=df_normalize['total_devices'].values\n",
    "copy_kdos['cluster'] = df_normalize['cluster'].values\n",
    "cantidadGrupo_kdos =  pd.DataFrame()\n",
    "cantidadGrupo_kdos['cantidad']=copy_kdos.groupby('cluster').size()\n",
    "cantidadGrupo_kdos"
   ]
  },
  {
   "cell_type": "markdown",
   "metadata": {},
   "source": [
    "### k-means now for K = 3"
   ]
  },
  {
   "cell_type": "code",
   "execution_count": 9,
   "metadata": {},
   "outputs": [
    {
     "data": {
      "text/plain": [
       "<matplotlib.collections.PathCollection at 0x15c8eff9ab0>"
      ]
     },
     "execution_count": 9,
     "metadata": {},
     "output_type": "execute_result"
    },
    {
     "data": {
      "image/png": "[encoded data removed]",
      "text/plain": [
       "<Figure size 1152x576 with 1 Axes>"
      ]
     },
     "metadata": {
      "needs_background": "light"
     },
     "output_type": "display_data"
    }
   ],
   "source": [
    "# Number of clusters\n",
    "k = 3\n",
    "\n",
    "# Kmeans\n",
    "kmeans = KMeans(n_clusters= k) #default: init = k-means++, n_init = 10, max_iter = 300\n",
    "\n",
    "# Labels of data\n",
    "cluster = kmeans.fit_predict(df_normalize)\n",
    "df_normalize['cluster'] = cluster\n",
    "\n",
    "# Obtain centroids coordinates\n",
    "centroids = kmeans.cluster_centers_\n",
    "\n",
    "# Asign x and y\n",
    "x = df_normalize['total_devices'].values\n",
    "y = df_normalize['bw_busy'].values\n",
    "\n",
    "# Print result\n",
    "plt.figure(figsize=(16, 8))\n",
    "plt.title(\"INGENIEROS & MAGISTERIO k=3 data\")\n",
    "plt.xlabel('Dispositivos totales')\n",
    "plt.ylabel('Ancho de banda oucpada')\n",
    "plt.scatter(x,y, marker='.', s=60)"
   ]
  },
  {
   "cell_type": "markdown",
   "metadata": {},
   "source": [
    "### Graphic represnetation of K-means clusters"
   ]
  },
  {
   "cell_type": "code",
   "execution_count": 10,
   "metadata": {},
   "outputs": [
    {
     "data": {
      "image/png": "[encoded data removed]",
      "text/plain": [
       "<Figure size 1152x576 with 1 Axes>"
      ]
     },
     "metadata": {
      "needs_background": "light"
     },
     "output_type": "display_data"
    }
   ],
   "source": [
    "# Asign colors to clusters\n",
    "colors = ['red', 'green', 'blue', 'yellow'] #Number of colors = k\n",
    "asign = []\n",
    "for row in cluster:\n",
    "    asign.append(colors[row])\n",
    "\n",
    "# Plot size\n",
    "plt.figure(figsize=(16,8))\n",
    "\n",
    "# Plot scatter\n",
    "plt.scatter(x, y, marker='.', c = asign, s=40)\n",
    "plt.scatter(centroids[:, 0], centroids[:, 1], marker='*', c='black', s=60)\n",
    "\n",
    "# Titles of x, y and plot\n",
    "plt.xlabel('Dispositivos totales')\n",
    "plt.ylabel('Ancho de banda oucpada')\n",
    "plt.title('INGENIEROS & MAGISTERIO: Algoritmo k-means para '+str(k)+' clusters')\n",
    "\n",
    "# Show plot\n",
    "plt.show()"
   ]
  },
  {
   "cell_type": "code",
   "execution_count": 11,
   "metadata": {},
   "outputs": [
    {
     "data": {
      "text/html": [
       "<div>\n",
       "<style scoped>\n",
       "    .dataframe tbody tr th:only-of-type {\n",
       "        vertical-align: middle;\n",
       "    }\n",
       "\n",
       "    .dataframe tbody tr th {\n",
       "        vertical-align: top;\n",
       "    }\n",
       "\n",
       "    .dataframe thead th {\n",
       "        text-align: right;\n",
       "    }\n",
       "</style>\n",
       "<table border=\"1\" class=\"dataframe\">\n",
       "  <thead>\n",
       "    <tr style=\"text-align: right;\">\n",
       "      <th></th>\n",
       "      <th>cantidad</th>\n",
       "    </tr>\n",
       "    <tr>\n",
       "      <th>cluster</th>\n",
       "      <th></th>\n",
       "    </tr>\n",
       "  </thead>\n",
       "  <tbody>\n",
       "    <tr>\n",
       "      <th>0</th>\n",
       "      <td>169</td>\n",
       "    </tr>\n",
       "    <tr>\n",
       "      <th>1</th>\n",
       "      <td>2</td>\n",
       "    </tr>\n",
       "    <tr>\n",
       "      <th>2</th>\n",
       "      <td>20</td>\n",
       "    </tr>\n",
       "  </tbody>\n",
       "</table>\n",
       "</div>"
      ],
      "text/plain": [
       "         cantidad\n",
       "cluster          \n",
       "0             169\n",
       "1               2\n",
       "2              20"
      ]
     },
     "execution_count": 11,
     "metadata": {},
     "output_type": "execute_result"
    }
   ],
   "source": [
    "# Show info of cluster\n",
    "copy = pd.DataFrame()\n",
    "copy['bw_busy']=df_normalize['bw_busy'].values\n",
    "copy['total_devices']=df_normalize['total_devices'].values\n",
    "copy['cluster'] = df_normalize['cluster'].values\n",
    "cantidadGrupo =  pd.DataFrame()\n",
    "cantidadGrupo['cantidad']=copy.groupby('cluster').size()\n",
    "cantidadGrupo"
   ]
  }
 ],
 "metadata": {
  "kernelspec": {
   "display_name": "Python 3.10.4 ('venv': venv)",
   "language": "python",
   "name": "python3"
  },
  "language_info": {
   "codemirror_mode": {
    "name": "ipython",
    "version": 3
   },
   "file_extension": ".py",
   "mimetype": "text/x-python",
   "name": "python",
   "nbconvert_exporter": "python",
   "pygments_lexer": "ipython3",
   "version": "3.10.4"
  },
  "orig_nbformat": 4,
  "vscode": {
   "interpreter": {
    "hash": "68c60849de4af882eabbc4d45eecdecf13c87bcf7f2c7d418150ffa1c909a3f3"
   }
  }
 },
 "nbformat": 4,
 "nbformat_minor": 2
}
