{
 "cells": [
  {
   "cell_type": "markdown",
   "metadata": {},
   "source": [
    "### Libraries"
   ]
  },
  {
   "cell_type": "code",
   "execution_count": 12,
   "metadata": {},
   "outputs": [],
   "source": [
    "import pandas as pd\n",
    "import matplotlib.pyplot as plt\n",
    "from sklearn.cluster import KMeans"
   ]
  },
  {
   "cell_type": "markdown",
   "metadata": {},
   "source": [
    "### Obtain the Location\n",
    "* For example the engineering building of Bilbao: BIZ-Leioa > Biblioteca > P0, P1, P2, P3, P4, P5 Y P6."
   ]
  },
  {
   "cell_type": "code",
   "execution_count": 13,
   "metadata": {},
   "outputs": [
    {
     "data": {
      "text/html": [
       "<div>\n",
       "<style scoped>\n",
       "    .dataframe tbody tr th:only-of-type {\n",
       "        vertical-align: middle;\n",
       "    }\n",
       "\n",
       "    .dataframe tbody tr th {\n",
       "        vertical-align: top;\n",
       "    }\n",
       "\n",
       "    .dataframe thead th {\n",
       "        text-align: right;\n",
       "    }\n",
       "</style>\n",
       "<table border=\"1\" class=\"dataframe\">\n",
       "  <thead>\n",
       "    <tr style=\"text-align: right;\">\n",
       "      <th></th>\n",
       "      <th>location</th>\n",
       "      <th>ap_name</th>\n",
       "    </tr>\n",
       "  </thead>\n",
       "  <tbody>\n",
       "    <tr>\n",
       "      <th>43</th>\n",
       "      <td>BIZ-Leioa &gt; Biblioteca &gt; P5</td>\n",
       "      <td>AP-Biblioteca-1142-U014969</td>\n",
       "    </tr>\n",
       "    <tr>\n",
       "      <th>57</th>\n",
       "      <td>BIZ-Leioa &gt; Biblioteca &gt; P6</td>\n",
       "      <td>AP-Biblioteca-1142-U017953</td>\n",
       "    </tr>\n",
       "    <tr>\n",
       "      <th>90</th>\n",
       "      <td>BIZ-Leioa &gt; Biblioteca &gt; P1</td>\n",
       "      <td>AP-Biblioteca-1602-U022170</td>\n",
       "    </tr>\n",
       "    <tr>\n",
       "      <th>139</th>\n",
       "      <td>BIZ-Leioa &gt; Biblioteca &gt; P5</td>\n",
       "      <td>AP-Biblioteca-1602-U022183</td>\n",
       "    </tr>\n",
       "    <tr>\n",
       "      <th>155</th>\n",
       "      <td>BIZ-Leioa &gt; Biblioteca &gt; P4</td>\n",
       "      <td>AP-Biblioteca-1602-U022177</td>\n",
       "    </tr>\n",
       "    <tr>\n",
       "      <th>...</th>\n",
       "      <td>...</td>\n",
       "      <td>...</td>\n",
       "    </tr>\n",
       "    <tr>\n",
       "      <th>69696</th>\n",
       "      <td>BIZ-Leioa &gt; Biblioteca &gt; P0</td>\n",
       "      <td>AP-Biblioteca-1602-U022167</td>\n",
       "    </tr>\n",
       "    <tr>\n",
       "      <th>69701</th>\n",
       "      <td>BIZ-Leioa &gt; Biblioteca &gt; P5</td>\n",
       "      <td>AP-Biblioteca-1142-U014953</td>\n",
       "    </tr>\n",
       "    <tr>\n",
       "      <th>69716</th>\n",
       "      <td>BIZ-Leioa &gt; Biblioteca &gt; P0</td>\n",
       "      <td>AP-Biblioteca-1602-U022166</td>\n",
       "    </tr>\n",
       "    <tr>\n",
       "      <th>69756</th>\n",
       "      <td>BIZ-Leioa &gt; Biblioteca &gt; P1</td>\n",
       "      <td>AP-Biblioteca-1602-U022170</td>\n",
       "    </tr>\n",
       "    <tr>\n",
       "      <th>69794</th>\n",
       "      <td>BIZ-Leioa &gt; Biblioteca &gt; P1</td>\n",
       "      <td>AP-Biblioteca-3702-U022185</td>\n",
       "    </tr>\n",
       "  </tbody>\n",
       "</table>\n",
       "<p>3166 rows × 2 columns</p>\n",
       "</div>"
      ],
      "text/plain": [
       "                          location                     ap_name\n",
       "43     BIZ-Leioa > Biblioteca > P5  AP-Biblioteca-1142-U014969\n",
       "57     BIZ-Leioa > Biblioteca > P6  AP-Biblioteca-1142-U017953\n",
       "90     BIZ-Leioa > Biblioteca > P1  AP-Biblioteca-1602-U022170\n",
       "139    BIZ-Leioa > Biblioteca > P5  AP-Biblioteca-1602-U022183\n",
       "155    BIZ-Leioa > Biblioteca > P4  AP-Biblioteca-1602-U022177\n",
       "...                            ...                         ...\n",
       "69696  BIZ-Leioa > Biblioteca > P0  AP-Biblioteca-1602-U022167\n",
       "69701  BIZ-Leioa > Biblioteca > P5  AP-Biblioteca-1142-U014953\n",
       "69716  BIZ-Leioa > Biblioteca > P0  AP-Biblioteca-1602-U022166\n",
       "69756  BIZ-Leioa > Biblioteca > P1  AP-Biblioteca-1602-U022170\n",
       "69794  BIZ-Leioa > Biblioteca > P1  AP-Biblioteca-3702-U022185\n",
       "\n",
       "[3166 rows x 2 columns]"
      ]
     },
     "execution_count": 13,
     "metadata": {},
     "output_type": "execute_result"
    }
   ],
   "source": [
    "# Read CSV file of Datos_EHU_clientes_tabladinamica_anonimo_DATOS\n",
    "df1_location = pd.read_csv(\"Datos_EHU_clientes_tabladinamica_anonimo_DATOS.csv\")\n",
    "\n",
    "# Make a copy\n",
    "df_location = df1_location.copy()\n",
    "\n",
    "# Extract from CSV file the 'location' = 'BIZ-Bilbao > Ingenieros > Planta 2' to obtain 'ap_name'\n",
    "# 1st drop unnnecesary data\n",
    "df_location.drop(labels=[\"id\",\"ip_address\",\"ip_type\",\"type\",\"vendor\",\"avg_session_throughput\",\"troughput\", \"interface\",\n",
    "\"ap_mac_address\",\"ap_ip_address\",\"ssid\",\"vlan\",\"protocol\",\"status\",\"on_network\",\"association_time\",\"session_length\",\n",
    "\"first_seen\",\"traffic\",\"encryption_cipher\",\"rssi\",\"snr\",\"802_11u_client\"], axis=1, inplace=True)\n",
    "\n",
    "# 2nd stay only with data that 'location' = 'BIZ-Leioa > Biblioteca > P0,1,2,3,4,5,6'\n",
    "df_location = df_location[(df_location[\"location\"] == 'BIZ-Leioa > Biblioteca > P0') |\n",
    "(df_location[\"location\"] == 'BIZ-Leioa > Biblioteca > P1') |\n",
    "(df_location[\"location\"] == 'BIZ-Leioa > Biblioteca > P2') |\n",
    "(df_location[\"location\"] == 'BIZ-Leioa > Biblioteca > P3') |\n",
    "(df_location[\"location\"] == 'BIZ-Leioa > Biblioteca > P4') |\n",
    "(df_location[\"location\"] == 'BIZ-Leioa > Biblioteca > P5') |\n",
    "(df_location[\"location\"] == 'BIZ-Leioa > Biblioteca > P6')]\n",
    "\n",
    "# Show dataframe\n",
    "df_location"
   ]
  },
  {
   "cell_type": "markdown",
   "metadata": {},
   "source": [
    "### Obtain with the 'ap_name' the 'suma_troghput' & 'cuenta_de_ip_address' "
   ]
  },
  {
   "cell_type": "code",
   "execution_count": 14,
   "metadata": {},
   "outputs": [
    {
     "data": {
      "text/html": [
       "<div>\n",
       "<style scoped>\n",
       "    .dataframe tbody tr th:only-of-type {\n",
       "        vertical-align: middle;\n",
       "    }\n",
       "\n",
       "    .dataframe tbody tr th {\n",
       "        vertical-align: top;\n",
       "    }\n",
       "\n",
       "    .dataframe thead th {\n",
       "        text-align: right;\n",
       "    }\n",
       "</style>\n",
       "<table border=\"1\" class=\"dataframe\">\n",
       "  <thead>\n",
       "    <tr style=\"text-align: right;\">\n",
       "      <th></th>\n",
       "      <th>etiquetas_de_fila</th>\n",
       "      <th>suma_de_troughput</th>\n",
       "      <th>cuenta_de_ip_address</th>\n",
       "    </tr>\n",
       "  </thead>\n",
       "  <tbody>\n",
       "    <tr>\n",
       "      <th>140</th>\n",
       "      <td>AP-Biblioteca-1142-U014953</td>\n",
       "      <td>5365,1</td>\n",
       "      <td>19.0</td>\n",
       "    </tr>\n",
       "    <tr>\n",
       "      <th>141</th>\n",
       "      <td>AP-Biblioteca-1142-U014969</td>\n",
       "      <td>41254,7</td>\n",
       "      <td>61.0</td>\n",
       "    </tr>\n",
       "    <tr>\n",
       "      <th>142</th>\n",
       "      <td>AP-Biblioteca-1142-U016978</td>\n",
       "      <td>7291,9</td>\n",
       "      <td>58.0</td>\n",
       "    </tr>\n",
       "    <tr>\n",
       "      <th>143</th>\n",
       "      <td>AP-Biblioteca-1142-U017953</td>\n",
       "      <td>36526</td>\n",
       "      <td>49.0</td>\n",
       "    </tr>\n",
       "    <tr>\n",
       "      <th>144</th>\n",
       "      <td>AP-Biblioteca-1142-U018920</td>\n",
       "      <td>12299</td>\n",
       "      <td>74.0</td>\n",
       "    </tr>\n",
       "    <tr>\n",
       "      <th>145</th>\n",
       "      <td>AP-Biblioteca-1262-U018787</td>\n",
       "      <td>13253,9</td>\n",
       "      <td>62.0</td>\n",
       "    </tr>\n",
       "    <tr>\n",
       "      <th>146</th>\n",
       "      <td>AP-Biblioteca-1262-U021951</td>\n",
       "      <td>12621,9</td>\n",
       "      <td>13.0</td>\n",
       "    </tr>\n",
       "    <tr>\n",
       "      <th>147</th>\n",
       "      <td>AP-Biblioteca-1602-U022166</td>\n",
       "      <td>21796,9</td>\n",
       "      <td>53.0</td>\n",
       "    </tr>\n",
       "    <tr>\n",
       "      <th>148</th>\n",
       "      <td>AP-Biblioteca-1602-U022167</td>\n",
       "      <td>1670,7</td>\n",
       "      <td>18.0</td>\n",
       "    </tr>\n",
       "    <tr>\n",
       "      <th>149</th>\n",
       "      <td>AP-Biblioteca-1602-U022168</td>\n",
       "      <td>3172,4</td>\n",
       "      <td>21.0</td>\n",
       "    </tr>\n",
       "    <tr>\n",
       "      <th>150</th>\n",
       "      <td>AP-Biblioteca-1602-U022169</td>\n",
       "      <td>22071,3</td>\n",
       "      <td>95.0</td>\n",
       "    </tr>\n",
       "    <tr>\n",
       "      <th>151</th>\n",
       "      <td>AP-Biblioteca-1602-U022170</td>\n",
       "      <td>56677,3</td>\n",
       "      <td>180.0</td>\n",
       "    </tr>\n",
       "    <tr>\n",
       "      <th>152</th>\n",
       "      <td>AP-Biblioteca-1602-U022171</td>\n",
       "      <td>28265,9</td>\n",
       "      <td>78.0</td>\n",
       "    </tr>\n",
       "    <tr>\n",
       "      <th>153</th>\n",
       "      <td>AP-Biblioteca-1602-U022172</td>\n",
       "      <td>20222,9</td>\n",
       "      <td>69.0</td>\n",
       "    </tr>\n",
       "    <tr>\n",
       "      <th>154</th>\n",
       "      <td>AP-Biblioteca-1602-U022173</td>\n",
       "      <td>38621</td>\n",
       "      <td>120.0</td>\n",
       "    </tr>\n",
       "    <tr>\n",
       "      <th>155</th>\n",
       "      <td>AP-Biblioteca-1602-U022174</td>\n",
       "      <td>38176,1</td>\n",
       "      <td>139.0</td>\n",
       "    </tr>\n",
       "    <tr>\n",
       "      <th>156</th>\n",
       "      <td>AP-Biblioteca-1602-U022175</td>\n",
       "      <td>46716,7</td>\n",
       "      <td>223.0</td>\n",
       "    </tr>\n",
       "    <tr>\n",
       "      <th>157</th>\n",
       "      <td>AP-Biblioteca-1602-U022176</td>\n",
       "      <td>26852,3</td>\n",
       "      <td>108.0</td>\n",
       "    </tr>\n",
       "    <tr>\n",
       "      <th>158</th>\n",
       "      <td>AP-Biblioteca-1602-U022177</td>\n",
       "      <td>58135,9</td>\n",
       "      <td>142.0</td>\n",
       "    </tr>\n",
       "    <tr>\n",
       "      <th>159</th>\n",
       "      <td>AP-Biblioteca-1602-U022178</td>\n",
       "      <td>25999,7</td>\n",
       "      <td>87.0</td>\n",
       "    </tr>\n",
       "    <tr>\n",
       "      <th>160</th>\n",
       "      <td>AP-Biblioteca-1602-U022179</td>\n",
       "      <td>34798,5</td>\n",
       "      <td>124.0</td>\n",
       "    </tr>\n",
       "    <tr>\n",
       "      <th>161</th>\n",
       "      <td>AP-Biblioteca-1602-U022180</td>\n",
       "      <td>37794,5</td>\n",
       "      <td>111.0</td>\n",
       "    </tr>\n",
       "    <tr>\n",
       "      <th>162</th>\n",
       "      <td>AP-Biblioteca-1602-U022181</td>\n",
       "      <td>24775,5</td>\n",
       "      <td>77.0</td>\n",
       "    </tr>\n",
       "    <tr>\n",
       "      <th>163</th>\n",
       "      <td>AP-Biblioteca-1602-U022182</td>\n",
       "      <td>25006,4</td>\n",
       "      <td>58.0</td>\n",
       "    </tr>\n",
       "    <tr>\n",
       "      <th>164</th>\n",
       "      <td>AP-Biblioteca-1602-U022183</td>\n",
       "      <td>39279</td>\n",
       "      <td>93.0</td>\n",
       "    </tr>\n",
       "    <tr>\n",
       "      <th>165</th>\n",
       "      <td>AP-Biblioteca-1602-U022184</td>\n",
       "      <td>3938,3</td>\n",
       "      <td>26.0</td>\n",
       "    </tr>\n",
       "    <tr>\n",
       "      <th>166</th>\n",
       "      <td>AP-Biblioteca-1602-U022227</td>\n",
       "      <td>8195,8</td>\n",
       "      <td>31.0</td>\n",
       "    </tr>\n",
       "    <tr>\n",
       "      <th>167</th>\n",
       "      <td>AP-Biblioteca-1602-U022229</td>\n",
       "      <td>388,8</td>\n",
       "      <td>7.0</td>\n",
       "    </tr>\n",
       "    <tr>\n",
       "      <th>168</th>\n",
       "      <td>AP-Biblioteca-1602-U022230</td>\n",
       "      <td>9041,8</td>\n",
       "      <td>16.0</td>\n",
       "    </tr>\n",
       "    <tr>\n",
       "      <th>169</th>\n",
       "      <td>AP-Biblioteca-1602-U022231</td>\n",
       "      <td>13881,6</td>\n",
       "      <td>38.0</td>\n",
       "    </tr>\n",
       "    <tr>\n",
       "      <th>170</th>\n",
       "      <td>AP-Biblioteca-1602-U028356</td>\n",
       "      <td>28642,4</td>\n",
       "      <td>63.0</td>\n",
       "    </tr>\n",
       "    <tr>\n",
       "      <th>171</th>\n",
       "      <td>AP-Biblioteca-1702-U024655</td>\n",
       "      <td>31355,4</td>\n",
       "      <td>111.0</td>\n",
       "    </tr>\n",
       "    <tr>\n",
       "      <th>172</th>\n",
       "      <td>AP-Biblioteca-3702-U021717</td>\n",
       "      <td>6314</td>\n",
       "      <td>48.0</td>\n",
       "    </tr>\n",
       "    <tr>\n",
       "      <th>173</th>\n",
       "      <td>AP-Biblioteca-3702-U022185</td>\n",
       "      <td>1169</td>\n",
       "      <td>5.0</td>\n",
       "    </tr>\n",
       "    <tr>\n",
       "      <th>174</th>\n",
       "      <td>AP-Biblioteca-3702-U022186</td>\n",
       "      <td>18061</td>\n",
       "      <td>41.0</td>\n",
       "    </tr>\n",
       "    <tr>\n",
       "      <th>175</th>\n",
       "      <td>AP-Biblioteca-3702-U022226</td>\n",
       "      <td>1472,6</td>\n",
       "      <td>16.0</td>\n",
       "    </tr>\n",
       "    <tr>\n",
       "      <th>176</th>\n",
       "      <td>AP-Biblioteca-3702-U022272</td>\n",
       "      <td>1880</td>\n",
       "      <td>8.0</td>\n",
       "    </tr>\n",
       "  </tbody>\n",
       "</table>\n",
       "</div>"
      ],
      "text/plain": [
       "              etiquetas_de_fila suma_de_troughput  cuenta_de_ip_address\n",
       "140  AP-Biblioteca-1142-U014953            5365,1                  19.0\n",
       "141  AP-Biblioteca-1142-U014969           41254,7                  61.0\n",
       "142  AP-Biblioteca-1142-U016978            7291,9                  58.0\n",
       "143  AP-Biblioteca-1142-U017953             36526                  49.0\n",
       "144  AP-Biblioteca-1142-U018920             12299                  74.0\n",
       "145  AP-Biblioteca-1262-U018787           13253,9                  62.0\n",
       "146  AP-Biblioteca-1262-U021951           12621,9                  13.0\n",
       "147  AP-Biblioteca-1602-U022166           21796,9                  53.0\n",
       "148  AP-Biblioteca-1602-U022167            1670,7                  18.0\n",
       "149  AP-Biblioteca-1602-U022168            3172,4                  21.0\n",
       "150  AP-Biblioteca-1602-U022169           22071,3                  95.0\n",
       "151  AP-Biblioteca-1602-U022170           56677,3                 180.0\n",
       "152  AP-Biblioteca-1602-U022171           28265,9                  78.0\n",
       "153  AP-Biblioteca-1602-U022172           20222,9                  69.0\n",
       "154  AP-Biblioteca-1602-U022173             38621                 120.0\n",
       "155  AP-Biblioteca-1602-U022174           38176,1                 139.0\n",
       "156  AP-Biblioteca-1602-U022175           46716,7                 223.0\n",
       "157  AP-Biblioteca-1602-U022176           26852,3                 108.0\n",
       "158  AP-Biblioteca-1602-U022177           58135,9                 142.0\n",
       "159  AP-Biblioteca-1602-U022178           25999,7                  87.0\n",
       "160  AP-Biblioteca-1602-U022179           34798,5                 124.0\n",
       "161  AP-Biblioteca-1602-U022180           37794,5                 111.0\n",
       "162  AP-Biblioteca-1602-U022181           24775,5                  77.0\n",
       "163  AP-Biblioteca-1602-U022182           25006,4                  58.0\n",
       "164  AP-Biblioteca-1602-U022183             39279                  93.0\n",
       "165  AP-Biblioteca-1602-U022184            3938,3                  26.0\n",
       "166  AP-Biblioteca-1602-U022227            8195,8                  31.0\n",
       "167  AP-Biblioteca-1602-U022229             388,8                   7.0\n",
       "168  AP-Biblioteca-1602-U022230            9041,8                  16.0\n",
       "169  AP-Biblioteca-1602-U022231           13881,6                  38.0\n",
       "170  AP-Biblioteca-1602-U028356           28642,4                  63.0\n",
       "171  AP-Biblioteca-1702-U024655           31355,4                 111.0\n",
       "172  AP-Biblioteca-3702-U021717              6314                  48.0\n",
       "173  AP-Biblioteca-3702-U022185              1169                   5.0\n",
       "174  AP-Biblioteca-3702-U022186             18061                  41.0\n",
       "175  AP-Biblioteca-3702-U022226            1472,6                  16.0\n",
       "176  AP-Biblioteca-3702-U022272              1880                   8.0"
      ]
     },
     "execution_count": 14,
     "metadata": {},
     "output_type": "execute_result"
    }
   ],
   "source": [
    "# Read CSV file of Datos_EHU_clientes_tabladinamica_anonimo_Hoja10.csv\n",
    "df1_ap = pd.read_csv(\"Datos_EHU_clientes_tabladinamica_anonimo_Hoja10.csv\")\n",
    "\n",
    "# Make a copy\n",
    "df_ap = df1_ap.copy()\n",
    "\n",
    "# Extract from CSV file the 'etiquetas_de_fila' of the df_location['ap_name']\n",
    "# 1st save data of df_location['ap_name']\n",
    "ap_name = df_location['ap_name']\n",
    "\n",
    "# 2nd stay only the data of the 'ap_name'\n",
    "df_ap_filter = df_ap[df_ap[\"etiquetas_de_fila\"].isin(ap_name)]\n",
    "\n",
    "# Show dataframe filter\n",
    "df_ap_filter\n"
   ]
  },
  {
   "cell_type": "markdown",
   "metadata": {},
   "source": [
    "### Drop the unnecsary data"
   ]
  },
  {
   "cell_type": "code",
   "execution_count": 15,
   "metadata": {},
   "outputs": [
    {
     "name": "stdout",
     "output_type": "stream",
     "text": [
      "<class 'pandas.core.frame.DataFrame'>\n",
      "Int64Index: 37 entries, 140 to 176\n",
      "Data columns (total 2 columns):\n",
      " #   Column                Non-Null Count  Dtype  \n",
      "---  ------                --------------  -----  \n",
      " 0   suma_de_troughput     37 non-null     float64\n",
      " 1   cuenta_de_ip_address  37 non-null     float64\n",
      "dtypes: float64(2)\n",
      "memory usage: 888.0 bytes\n"
     ]
    },
    {
     "name": "stderr",
     "output_type": "stream",
     "text": [
      "C:\\Users\\alvar\\AppData\\Local\\Temp\\ipykernel_5044\\32999323.py:1: SettingWithCopyWarning: \n",
      "A value is trying to be set on a copy of a slice from a DataFrame\n",
      "\n",
      "See the caveats in the documentation: https://pandas.pydata.org/pandas-docs/stable/user_guide/indexing.html#returning-a-view-versus-a-copy\n",
      "  df_ap_filter.drop([\"etiquetas_de_fila\"], axis=1, inplace=True)\n",
      "C:\\Users\\alvar\\AppData\\Local\\Temp\\ipykernel_5044\\32999323.py:5: SettingWithCopyWarning: \n",
      "A value is trying to be set on a copy of a slice from a DataFrame.\n",
      "Try using .loc[row_indexer,col_indexer] = value instead\n",
      "\n",
      "See the caveats in the documentation: https://pandas.pydata.org/pandas-docs/stable/user_guide/indexing.html#returning-a-view-versus-a-copy\n",
      "  df_ap_filter['suma_de_troughput'] = df_ap_filter['suma_de_troughput'].str.replace(',', '.')\n",
      "C:\\Users\\alvar\\AppData\\Local\\Temp\\ipykernel_5044\\32999323.py:6: SettingWithCopyWarning: \n",
      "A value is trying to be set on a copy of a slice from a DataFrame.\n",
      "Try using .loc[row_indexer,col_indexer] = value instead\n",
      "\n",
      "See the caveats in the documentation: https://pandas.pydata.org/pandas-docs/stable/user_guide/indexing.html#returning-a-view-versus-a-copy\n",
      "  df_ap_filter['suma_de_troughput'] = df_ap_filter['suma_de_troughput'].astype(float)\n"
     ]
    }
   ],
   "source": [
    "df_ap_filter.drop([\"etiquetas_de_fila\"], axis=1, inplace=True)\n",
    "\n",
    "# Convert String to float of df_ap_filter['suma_de_troughput'] column\n",
    "# Replace ',' of the String to be able to convert to Float\n",
    "df_ap_filter['suma_de_troughput'] = df_ap_filter['suma_de_troughput'].str.replace(',', '.')\n",
    "df_ap_filter['suma_de_troughput'] = df_ap_filter['suma_de_troughput'].astype(float)\n",
    "\n",
    "# Show info of dataframe\n",
    "df_ap_filter.info()"
   ]
  },
  {
   "cell_type": "markdown",
   "metadata": {},
   "source": [
    "### Elbow method"
   ]
  },
  {
   "cell_type": "code",
   "execution_count": 16,
   "metadata": {},
   "outputs": [
    {
     "data": {
      "image/png": "[encoded data removed]",
      "text/plain": [
       "<Figure size 1152x576 with 1 Axes>"
      ]
     },
     "metadata": {
      "needs_background": "light"
     },
     "output_type": "display_data"
    }
   ],
   "source": [
    "# Normalize data\n",
    "from sklearn import preprocessing \n",
    "min_max_scaler = preprocessing.MinMaxScaler()\n",
    "normalize = min_max_scaler.fit_transform(df_ap_filter)\n",
    "df_normalize = pd.DataFrame(normalize)\n",
    "\n",
    "# Rename columns of data frame normalize\n",
    "df_normalize = df_normalize.rename(columns={0: 'total_devices', 1: 'bw_busy'}) #I change the name of the columns to be the same as in the data of Dublin\n",
    "\n",
    "# Elbow method\n",
    "inertia = [] \n",
    "rango = range(1,11)\n",
    "for i in rango:\n",
    "    algoritmo = KMeans(n_clusters=i) #default: init = k-means++, n_init = 10, max_iter = 300\n",
    "    algoritmo.fit(df_normalize)\n",
    "    inertia.append(algoritmo.inertia_) #Calculate: The total sum of the square inside each cluster\n",
    "\n",
    "# Size figure\n",
    "plt.figure(figsize=(16,8))\n",
    "\n",
    "# Plot\n",
    "plt.plot(rango, inertia, 'bx-')\n",
    "plt.xlabel('Numero clusters(k)')\n",
    "plt.ylabel('Inertia')\n",
    "plt.title('BIBLIOTECA: Método Codo de Jambú mostrando la k óptima')\n",
    "\n",
    "# Print plt\n",
    "plt.show()"
   ]
  },
  {
   "cell_type": "markdown",
   "metadata": {},
   "source": [
    "### k-means from sklearn\n",
    "* With the Elbow method we obtain the optimal k is 3"
   ]
  },
  {
   "cell_type": "code",
   "execution_count": 17,
   "metadata": {},
   "outputs": [
    {
     "data": {
      "text/plain": [
       "<matplotlib.collections.PathCollection at 0x2c09eb0e4d0>"
      ]
     },
     "execution_count": 17,
     "metadata": {},
     "output_type": "execute_result"
    },
    {
     "data": {
      "image/png": "[encoded data removed]",
      "text/plain": [
       "<Figure size 1152x576 with 1 Axes>"
      ]
     },
     "metadata": {
      "needs_background": "light"
     },
     "output_type": "display_data"
    }
   ],
   "source": [
    "# Show k-means k=2\n",
    "# Number of clusters\n",
    "k = 2\n",
    "\n",
    "# Kmeans\n",
    "kmeans = KMeans(n_clusters= k) #default: init = k-means++, n_init = 10, max_iter = 300\n",
    "\n",
    "# Labels of data\n",
    "cluster_kdos = kmeans.fit_predict(df_normalize)\n",
    "df_normalize['cluster'] = cluster_kdos\n",
    "\n",
    "# Obtain centroids coordinates\n",
    "centroids = kmeans.cluster_centers_\n",
    "\n",
    "# Asign x and y\n",
    "x = df_normalize['total_devices'].values\n",
    "y = df_normalize['bw_busy'].values\n",
    "\n",
    "# Print result\n",
    "plt.figure(figsize=(16,8))\n",
    "plt.title('BIBLIOTECA k=2 data')\n",
    "plt.xlabel('Dispositivos totales')\n",
    "plt.ylabel('Ancho de banda oucpada')\n",
    "plt.scatter(x,y, marker='.', s=60)"
   ]
  },
  {
   "cell_type": "markdown",
   "metadata": {},
   "source": [
    "### Graphic representation of k-means clusters"
   ]
  },
  {
   "cell_type": "code",
   "execution_count": 18,
   "metadata": {},
   "outputs": [
    {
     "data": {
      "image/png": "[encoded data removed]",
      "text/plain": [
       "<Figure size 1152x576 with 1 Axes>"
      ]
     },
     "metadata": {
      "needs_background": "light"
     },
     "output_type": "display_data"
    }
   ],
   "source": [
    "# Asign colors to clusters\n",
    "colors = ['red', 'green', 'blue', 'yellow'] #Number of colors = k\n",
    "asign = []\n",
    "for row in cluster_kdos:\n",
    "    asign.append(colors[row])\n",
    "\n",
    "# Plot size\n",
    "plt.figure(figsize=(16,8))\n",
    "\n",
    "# Plot scatter\n",
    "plt.scatter(x, y, marker='.', c = asign, s=40)\n",
    "plt.scatter(centroids[:, 0], centroids[:, 1], marker='*', c='black', s=60)\n",
    "\n",
    "# Titles of x, y and plot\n",
    "plt.xlabel('Dispositivos totales')\n",
    "plt.ylabel('Ancho de banda oucpada')\n",
    "plt.title('BIBLIOTECA: Algoritmo k-means para '+str(k)+' clusters')\n",
    "\n",
    "# Show plot\n",
    "plt.show()"
   ]
  },
  {
   "cell_type": "code",
   "execution_count": 19,
   "metadata": {},
   "outputs": [
    {
     "data": {
      "text/html": [
       "<div>\n",
       "<style scoped>\n",
       "    .dataframe tbody tr th:only-of-type {\n",
       "        vertical-align: middle;\n",
       "    }\n",
       "\n",
       "    .dataframe tbody tr th {\n",
       "        vertical-align: top;\n",
       "    }\n",
       "\n",
       "    .dataframe thead th {\n",
       "        text-align: right;\n",
       "    }\n",
       "</style>\n",
       "<table border=\"1\" class=\"dataframe\">\n",
       "  <thead>\n",
       "    <tr style=\"text-align: right;\">\n",
       "      <th></th>\n",
       "      <th>cantidad</th>\n",
       "    </tr>\n",
       "    <tr>\n",
       "      <th>cluster</th>\n",
       "      <th></th>\n",
       "    </tr>\n",
       "  </thead>\n",
       "  <tbody>\n",
       "    <tr>\n",
       "      <th>0</th>\n",
       "      <td>18</td>\n",
       "    </tr>\n",
       "    <tr>\n",
       "      <th>1</th>\n",
       "      <td>19</td>\n",
       "    </tr>\n",
       "  </tbody>\n",
       "</table>\n",
       "</div>"
      ],
      "text/plain": [
       "         cantidad\n",
       "cluster          \n",
       "0              18\n",
       "1              19"
      ]
     },
     "execution_count": 19,
     "metadata": {},
     "output_type": "execute_result"
    }
   ],
   "source": [
    "# Show info of cluster\n",
    "copy_kdos = pd.DataFrame()\n",
    "copy_kdos['bw_busy']=df_normalize['bw_busy'].values\n",
    "copy_kdos['total_devices']=df_normalize['total_devices'].values\n",
    "copy_kdos['cluster'] = df_normalize['cluster'].values\n",
    "cantidadGrupo_kdos =  pd.DataFrame()\n",
    "cantidadGrupo_kdos['cantidad']=copy_kdos.groupby('cluster').size()\n",
    "cantidadGrupo_kdos"
   ]
  },
  {
   "cell_type": "markdown",
   "metadata": {},
   "source": [
    "### k-means now for K = 3"
   ]
  },
  {
   "cell_type": "code",
   "execution_count": 20,
   "metadata": {},
   "outputs": [
    {
     "data": {
      "text/plain": [
       "<matplotlib.collections.PathCollection at 0x2c09a3389a0>"
      ]
     },
     "execution_count": 20,
     "metadata": {},
     "output_type": "execute_result"
    },
    {
     "data": {
      "image/png": "[encoded data removed]",
      "text/plain": [
       "<Figure size 1152x576 with 1 Axes>"
      ]
     },
     "metadata": {
      "needs_background": "light"
     },
     "output_type": "display_data"
    }
   ],
   "source": [
    "# Number of clusters\n",
    "k = 3\n",
    "\n",
    "# Kmeans\n",
    "kmeans = KMeans(n_clusters= k) #default: init = k-means++, n_init = 10, max_iter = 300\n",
    "\n",
    "# Labels of data\n",
    "cluster = kmeans.fit_predict(df_normalize)\n",
    "df_normalize['cluster'] = cluster\n",
    "\n",
    "# Obtain centroids coordinates\n",
    "centroids = kmeans.cluster_centers_\n",
    "\n",
    "# Asign x and y\n",
    "x = df_normalize['total_devices'].values\n",
    "y = df_normalize['bw_busy'].values\n",
    "\n",
    "# Print result\n",
    "plt.figure(figsize=(16,8))\n",
    "plt.title('BIBLIOTECA k=3 data')\n",
    "plt.xlabel('Dispositivos totales')\n",
    "plt.ylabel('Ancho de banda oucpada')\n",
    "plt.scatter(x,y, marker='.', s=60)"
   ]
  },
  {
   "cell_type": "markdown",
   "metadata": {},
   "source": [
    "### Graphic represnetation of K-means clusters"
   ]
  },
  {
   "cell_type": "code",
   "execution_count": 21,
   "metadata": {},
   "outputs": [
    {
     "data": {
      "image/png": "[encoded data removed]",
      "text/plain": [
       "<Figure size 1152x576 with 1 Axes>"
      ]
     },
     "metadata": {
      "needs_background": "light"
     },
     "output_type": "display_data"
    }
   ],
   "source": [
    "# Asign colors to clusters\n",
    "colors = ['red', 'green', 'blue', 'yellow'] #Number of colors = k\n",
    "asign = []\n",
    "for row in cluster:\n",
    "    asign.append(colors[row])\n",
    "\n",
    "# Plot size\n",
    "plt.figure(figsize=(16,8))\n",
    "\n",
    "# Plot scatter\n",
    "plt.scatter(x, y, marker='.', c = asign, s=40)\n",
    "plt.scatter(centroids[:, 0], centroids[:, 1], marker='*', c='black', s=60)\n",
    "\n",
    "# Titles of x, y and plot\n",
    "plt.xlabel('Dispositivos totales')\n",
    "plt.ylabel('Ancho de banda oucpada')\n",
    "plt.title('BIBLIOTECA: Algoritmo k-means para '+str(k)+' clusters')\n",
    "\n",
    "# Show plot\n",
    "plt.show()"
   ]
  },
  {
   "cell_type": "code",
   "execution_count": 22,
   "metadata": {},
   "outputs": [
    {
     "data": {
      "text/html": [
       "<div>\n",
       "<style scoped>\n",
       "    .dataframe tbody tr th:only-of-type {\n",
       "        vertical-align: middle;\n",
       "    }\n",
       "\n",
       "    .dataframe tbody tr th {\n",
       "        vertical-align: top;\n",
       "    }\n",
       "\n",
       "    .dataframe thead th {\n",
       "        text-align: right;\n",
       "    }\n",
       "</style>\n",
       "<table border=\"1\" class=\"dataframe\">\n",
       "  <thead>\n",
       "    <tr style=\"text-align: right;\">\n",
       "      <th></th>\n",
       "      <th>cantidad</th>\n",
       "    </tr>\n",
       "    <tr>\n",
       "      <th>cluster</th>\n",
       "      <th></th>\n",
       "    </tr>\n",
       "  </thead>\n",
       "  <tbody>\n",
       "    <tr>\n",
       "      <th>0</th>\n",
       "      <td>15</td>\n",
       "    </tr>\n",
       "    <tr>\n",
       "      <th>1</th>\n",
       "      <td>19</td>\n",
       "    </tr>\n",
       "    <tr>\n",
       "      <th>2</th>\n",
       "      <td>3</td>\n",
       "    </tr>\n",
       "  </tbody>\n",
       "</table>\n",
       "</div>"
      ],
      "text/plain": [
       "         cantidad\n",
       "cluster          \n",
       "0              15\n",
       "1              19\n",
       "2               3"
      ]
     },
     "execution_count": 22,
     "metadata": {},
     "output_type": "execute_result"
    }
   ],
   "source": [
    "# Show info of cluster\n",
    "copy = pd.DataFrame()\n",
    "copy['bw_busy']=df_normalize['bw_busy'].values\n",
    "copy['total_devices']=df_normalize['total_devices'].values\n",
    "copy['cluster'] = df_normalize['cluster'].values\n",
    "cantidadGrupo =  pd.DataFrame()\n",
    "cantidadGrupo['cantidad']=copy.groupby('cluster').size()\n",
    "cantidadGrupo"
   ]
  }
 ],
 "metadata": {
  "kernelspec": {
   "display_name": "Python 3.10.4 ('venv': venv)",
   "language": "python",
   "name": "python3"
  },
  "language_info": {
   "codemirror_mode": {
    "name": "ipython",
    "version": 3
   },
   "file_extension": ".py",
   "mimetype": "text/x-python",
   "name": "python",
   "nbconvert_exporter": "python",
   "pygments_lexer": "ipython3",
   "version": "3.10.4"
  },
  "orig_nbformat": 4,
  "vscode": {
   "interpreter": {
    "hash": "68c60849de4af882eabbc4d45eecdecf13c87bcf7f2c7d418150ffa1c909a3f3"
   }
  }
 },
 "nbformat": 4,
 "nbformat_minor": 2
}
